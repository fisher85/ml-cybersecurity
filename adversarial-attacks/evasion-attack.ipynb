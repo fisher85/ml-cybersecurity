{
 "cells": [
  {
   "cell_type": "markdown",
   "metadata": {
    "tags": []
   },
   "source": [
    "# Defending ML IDS against an evasion attack using adversarial training"
   ]
  },
  {
   "cell_type": "markdown",
   "metadata": {},
   "source": [
    "In this notebook we implement defence against an evasion attack that targets a ML-based IDS.\n",
    "\n",
    "The program consists of two main steps:\n",
    "1. performing an evasion attack: crafting adversarial samples for a Random Forest model;\n",
    "1. adversarial training: extending an original dataset with correctly labeled adversarial samples and training a new and adversarially robust model on a new training set."
   ]
  },
  {
   "cell_type": "markdown",
   "metadata": {},
   "source": [
    "**Summary of the implementation of the main steps of the program:**"
   ]
  },
  {
   "cell_type": "markdown",
   "metadata": {},
   "source": [
    "*Finding adversarial samples*\n",
    "1. A Random Forest model is trained on CICIDS2017 dataset (on a subset with web attacks: web_attacks_balanced.csv).\n",
    "1. The performance of the model is evaluated on a test set.\n",
    "1. For all samples that are correctly labeled by the model as an attack, a value of the \"Total Length of Fwd Packets\" feature is modified within the given range.\n",
    "1. If the model changes its prediction for the sample with the modified \"Total Length of Fwd Packets\" feature, this sample is adversarial (it misleads the model).\n",
    "1. The second test set with adversarial samples is formed. The performance of the model is evaluated on this test set. It is expected that the performance will decline: even one adversarial sample enables the opportunity for an attack."
   ]
  },
  {
   "cell_type": "markdown",
   "metadata": {},
   "source": [
    "*Defending against the evasion attack*\n",
    "1. Adversarial samples are labeled as an \"attack\" and added to the original training and test sets. \n",
    "1. A new model is trained on the new training set.\n",
    "1. The performance of the adversarially trained model is evaluated on the new test set. It is expected that the performance metrics will be close to metrics of the original model before the attack, because the addition of adversarial samples increases the robustness of the model against adversarial attacks."
   ]
  },
  {
   "cell_type": "markdown",
   "metadata": {},
   "source": [
    "Training data: https://github.com/fisher85/ml-cybersecurity/blob/master/python-web-attack-detection/datasets/web_attacks_balanced.zip\n",
    "\n",
    "Training dataset is the balanced dataset based on CICIDS2017: https://www.unb.ca/cic/datasets/ids-2017.html"
   ]
  },
  {
   "cell_type": "markdown",
   "metadata": {},
   "source": [
    "## Data preprocessing"
   ]
  },
  {
   "cell_type": "code",
   "execution_count": 1,
   "metadata": {},
   "outputs": [],
   "source": [
    "import math\n",
    "import pickle\n",
    "\n",
    "import numpy as np\n",
    "import pandas as pd\n",
    "from sklearn import model_selection\n",
    "from sklearn.ensemble import RandomForestClassifier\n",
    "from sklearn.metrics import accuracy_score, confusion_matrix, f1_score, precision_score, recall_score\n",
    "from sklearn.model_selection import train_test_split"
   ]
  },
  {
   "cell_type": "markdown",
   "metadata": {},
   "source": [
    "Download the dataset from Github to Google Colab and unzip it."
   ]
  },
  {
   "cell_type": "code",
   "execution_count": null,
   "metadata": {},
   "outputs": [],
   "source": [
    "!wget https://github.com/fisher85/ml-cybersecurity/blob/master/python-web-attack-detection/datasets/web_attacks_balanced.zip?raw=true -O dataset.zip\n",
    "!unzip -u dataset.zip"
   ]
  },
  {
   "cell_type": "markdown",
   "metadata": {},
   "source": [
    "Load our dataset. We use the balanced dataset based on CICIDS2017 (see the description of this balanced dataset in the previous work: https://ispranproceedings.elpub.ru/jour/article/view/1348/1147)."
   ]
  },
  {
   "cell_type": "code",
   "execution_count": 2,
   "metadata": {},
   "outputs": [
    {
     "data": {
      "text/html": [
       "<div>\n",
       "<style scoped>\n",
       "    .dataframe tbody tr th:only-of-type {\n",
       "        vertical-align: middle;\n",
       "    }\n",
       "\n",
       "    .dataframe tbody tr th {\n",
       "        vertical-align: top;\n",
       "    }\n",
       "\n",
       "    .dataframe thead th {\n",
       "        text-align: right;\n",
       "    }\n",
       "</style>\n",
       "<table border=\"1\" class=\"dataframe\">\n",
       "  <thead>\n",
       "    <tr style=\"text-align: right;\">\n",
       "      <th></th>\n",
       "      <th>Flow ID</th>\n",
       "      <th>Source IP</th>\n",
       "      <th>Source Port</th>\n",
       "      <th>Destination IP</th>\n",
       "      <th>Destination Port</th>\n",
       "      <th>Protocol</th>\n",
       "      <th>Timestamp</th>\n",
       "      <th>Flow Duration</th>\n",
       "      <th>Total Fwd Packets</th>\n",
       "      <th>Total Backward Packets</th>\n",
       "      <th>...</th>\n",
       "      <th>min_seg_size_forward</th>\n",
       "      <th>Active Mean</th>\n",
       "      <th>Active Std</th>\n",
       "      <th>Active Max</th>\n",
       "      <th>Active Min</th>\n",
       "      <th>Idle Mean</th>\n",
       "      <th>Idle Std</th>\n",
       "      <th>Idle Max</th>\n",
       "      <th>Idle Min</th>\n",
       "      <th>Label</th>\n",
       "    </tr>\n",
       "  </thead>\n",
       "  <tbody>\n",
       "    <tr>\n",
       "      <th>0</th>\n",
       "      <td>60803</td>\n",
       "      <td>1261</td>\n",
       "      <td>39923.0</td>\n",
       "      <td>1599</td>\n",
       "      <td>53.0</td>\n",
       "      <td>17.0</td>\n",
       "      <td>181</td>\n",
       "      <td>350.0</td>\n",
       "      <td>4.0</td>\n",
       "      <td>4.0</td>\n",
       "      <td>...</td>\n",
       "      <td>32.0</td>\n",
       "      <td>0.0</td>\n",
       "      <td>0.000</td>\n",
       "      <td>0.0</td>\n",
       "      <td>0.0</td>\n",
       "      <td>0.0</td>\n",
       "      <td>0.000</td>\n",
       "      <td>0.0</td>\n",
       "      <td>0.0</td>\n",
       "      <td>BENIGN</td>\n",
       "    </tr>\n",
       "    <tr>\n",
       "      <th>1</th>\n",
       "      <td>69607</td>\n",
       "      <td>1265</td>\n",
       "      <td>3480.0</td>\n",
       "      <td>1599</td>\n",
       "      <td>53.0</td>\n",
       "      <td>17.0</td>\n",
       "      <td>181</td>\n",
       "      <td>176.0</td>\n",
       "      <td>2.0</td>\n",
       "      <td>2.0</td>\n",
       "      <td>...</td>\n",
       "      <td>32.0</td>\n",
       "      <td>0.0</td>\n",
       "      <td>0.000</td>\n",
       "      <td>0.0</td>\n",
       "      <td>0.0</td>\n",
       "      <td>0.0</td>\n",
       "      <td>0.000</td>\n",
       "      <td>0.0</td>\n",
       "      <td>0.0</td>\n",
       "      <td>BENIGN</td>\n",
       "    </tr>\n",
       "    <tr>\n",
       "      <th>2</th>\n",
       "      <td>33770</td>\n",
       "      <td>1256</td>\n",
       "      <td>16043.0</td>\n",
       "      <td>1599</td>\n",
       "      <td>53.0</td>\n",
       "      <td>17.0</td>\n",
       "      <td>181</td>\n",
       "      <td>151.0</td>\n",
       "      <td>2.0</td>\n",
       "      <td>2.0</td>\n",
       "      <td>...</td>\n",
       "      <td>32.0</td>\n",
       "      <td>0.0</td>\n",
       "      <td>0.000</td>\n",
       "      <td>0.0</td>\n",
       "      <td>0.0</td>\n",
       "      <td>0.0</td>\n",
       "      <td>0.000</td>\n",
       "      <td>0.0</td>\n",
       "      <td>0.0</td>\n",
       "      <td>BENIGN</td>\n",
       "    </tr>\n",
       "    <tr>\n",
       "      <th>3</th>\n",
       "      <td>69711</td>\n",
       "      <td>1265</td>\n",
       "      <td>49221.0</td>\n",
       "      <td>1599</td>\n",
       "      <td>53.0</td>\n",
       "      <td>17.0</td>\n",
       "      <td>181</td>\n",
       "      <td>163.0</td>\n",
       "      <td>2.0</td>\n",
       "      <td>2.0</td>\n",
       "      <td>...</td>\n",
       "      <td>32.0</td>\n",
       "      <td>0.0</td>\n",
       "      <td>0.000</td>\n",
       "      <td>0.0</td>\n",
       "      <td>0.0</td>\n",
       "      <td>0.0</td>\n",
       "      <td>0.000</td>\n",
       "      <td>0.0</td>\n",
       "      <td>0.0</td>\n",
       "      <td>BENIGN</td>\n",
       "    </tr>\n",
       "    <tr>\n",
       "      <th>4</th>\n",
       "      <td>69659</td>\n",
       "      <td>1265</td>\n",
       "      <td>41529.0</td>\n",
       "      <td>1599</td>\n",
       "      <td>53.0</td>\n",
       "      <td>17.0</td>\n",
       "      <td>181</td>\n",
       "      <td>163.0</td>\n",
       "      <td>2.0</td>\n",
       "      <td>2.0</td>\n",
       "      <td>...</td>\n",
       "      <td>32.0</td>\n",
       "      <td>0.0</td>\n",
       "      <td>0.000</td>\n",
       "      <td>0.0</td>\n",
       "      <td>0.0</td>\n",
       "      <td>0.0</td>\n",
       "      <td>0.000</td>\n",
       "      <td>0.0</td>\n",
       "      <td>0.0</td>\n",
       "      <td>BENIGN</td>\n",
       "    </tr>\n",
       "    <tr>\n",
       "      <th>...</th>\n",
       "      <td>...</td>\n",
       "      <td>...</td>\n",
       "      <td>...</td>\n",
       "      <td>...</td>\n",
       "      <td>...</td>\n",
       "      <td>...</td>\n",
       "      <td>...</td>\n",
       "      <td>...</td>\n",
       "      <td>...</td>\n",
       "      <td>...</td>\n",
       "      <td>...</td>\n",
       "      <td>...</td>\n",
       "      <td>...</td>\n",
       "      <td>...</td>\n",
       "      <td>...</td>\n",
       "      <td>...</td>\n",
       "      <td>...</td>\n",
       "      <td>...</td>\n",
       "      <td>...</td>\n",
       "      <td>...</td>\n",
       "      <td>...</td>\n",
       "    </tr>\n",
       "    <tr>\n",
       "      <th>7262</th>\n",
       "      <td>18877</td>\n",
       "      <td>1257</td>\n",
       "      <td>62969.0</td>\n",
       "      <td>2409</td>\n",
       "      <td>443.0</td>\n",
       "      <td>6.0</td>\n",
       "      <td>134</td>\n",
       "      <td>6037341.0</td>\n",
       "      <td>8.0</td>\n",
       "      <td>6.0</td>\n",
       "      <td>...</td>\n",
       "      <td>20.0</td>\n",
       "      <td>283421.0</td>\n",
       "      <td>0.000</td>\n",
       "      <td>283421.0</td>\n",
       "      <td>283421.0</td>\n",
       "      <td>5753917.0</td>\n",
       "      <td>0.000</td>\n",
       "      <td>5753917.0</td>\n",
       "      <td>5753917.0</td>\n",
       "      <td>BENIGN</td>\n",
       "    </tr>\n",
       "    <tr>\n",
       "      <th>7263</th>\n",
       "      <td>41113</td>\n",
       "      <td>1257</td>\n",
       "      <td>63397.0</td>\n",
       "      <td>1599</td>\n",
       "      <td>53.0</td>\n",
       "      <td>17.0</td>\n",
       "      <td>134</td>\n",
       "      <td>157.0</td>\n",
       "      <td>2.0</td>\n",
       "      <td>2.0</td>\n",
       "      <td>...</td>\n",
       "      <td>20.0</td>\n",
       "      <td>0.0</td>\n",
       "      <td>0.000</td>\n",
       "      <td>0.0</td>\n",
       "      <td>0.0</td>\n",
       "      <td>0.0</td>\n",
       "      <td>0.000</td>\n",
       "      <td>0.0</td>\n",
       "      <td>0.0</td>\n",
       "      <td>BENIGN</td>\n",
       "    </tr>\n",
       "    <tr>\n",
       "      <th>7264</th>\n",
       "      <td>18825</td>\n",
       "      <td>1257</td>\n",
       "      <td>63000.0</td>\n",
       "      <td>2308</td>\n",
       "      <td>443.0</td>\n",
       "      <td>6.0</td>\n",
       "      <td>134</td>\n",
       "      <td>117745833.0</td>\n",
       "      <td>36.0</td>\n",
       "      <td>34.0</td>\n",
       "      <td>...</td>\n",
       "      <td>20.0</td>\n",
       "      <td>220289.5</td>\n",
       "      <td>682382.033</td>\n",
       "      <td>2387143.0</td>\n",
       "      <td>22952.0</td>\n",
       "      <td>9591863.0</td>\n",
       "      <td>1403991.926</td>\n",
       "      <td>10000000.0</td>\n",
       "      <td>5133889.0</td>\n",
       "      <td>BENIGN</td>\n",
       "    </tr>\n",
       "    <tr>\n",
       "      <th>7265</th>\n",
       "      <td>13528</td>\n",
       "      <td>1263</td>\n",
       "      <td>60419.0</td>\n",
       "      <td>1590</td>\n",
       "      <td>53.0</td>\n",
       "      <td>17.0</td>\n",
       "      <td>134</td>\n",
       "      <td>47819.0</td>\n",
       "      <td>1.0</td>\n",
       "      <td>1.0</td>\n",
       "      <td>...</td>\n",
       "      <td>20.0</td>\n",
       "      <td>0.0</td>\n",
       "      <td>0.000</td>\n",
       "      <td>0.0</td>\n",
       "      <td>0.0</td>\n",
       "      <td>0.0</td>\n",
       "      <td>0.000</td>\n",
       "      <td>0.0</td>\n",
       "      <td>0.0</td>\n",
       "      <td>BENIGN</td>\n",
       "    </tr>\n",
       "    <tr>\n",
       "      <th>7266</th>\n",
       "      <td>14191</td>\n",
       "      <td>1263</td>\n",
       "      <td>61083.0</td>\n",
       "      <td>1590</td>\n",
       "      <td>53.0</td>\n",
       "      <td>17.0</td>\n",
       "      <td>134</td>\n",
       "      <td>98421.0</td>\n",
       "      <td>1.0</td>\n",
       "      <td>1.0</td>\n",
       "      <td>...</td>\n",
       "      <td>20.0</td>\n",
       "      <td>0.0</td>\n",
       "      <td>0.000</td>\n",
       "      <td>0.0</td>\n",
       "      <td>0.0</td>\n",
       "      <td>0.0</td>\n",
       "      <td>0.000</td>\n",
       "      <td>0.0</td>\n",
       "      <td>0.0</td>\n",
       "      <td>BENIGN</td>\n",
       "    </tr>\n",
       "  </tbody>\n",
       "</table>\n",
       "<p>7267 rows × 84 columns</p>\n",
       "</div>"
      ],
      "text/plain": [
       "      Flow ID  Source IP  Source Port  Destination IP  Destination Port  \\\n",
       "0       60803       1261      39923.0            1599              53.0   \n",
       "1       69607       1265       3480.0            1599              53.0   \n",
       "2       33770       1256      16043.0            1599              53.0   \n",
       "3       69711       1265      49221.0            1599              53.0   \n",
       "4       69659       1265      41529.0            1599              53.0   \n",
       "...       ...        ...          ...             ...               ...   \n",
       "7262    18877       1257      62969.0            2409             443.0   \n",
       "7263    41113       1257      63397.0            1599              53.0   \n",
       "7264    18825       1257      63000.0            2308             443.0   \n",
       "7265    13528       1263      60419.0            1590              53.0   \n",
       "7266    14191       1263      61083.0            1590              53.0   \n",
       "\n",
       "      Protocol  Timestamp  Flow Duration  Total Fwd Packets  \\\n",
       "0         17.0        181          350.0                4.0   \n",
       "1         17.0        181          176.0                2.0   \n",
       "2         17.0        181          151.0                2.0   \n",
       "3         17.0        181          163.0                2.0   \n",
       "4         17.0        181          163.0                2.0   \n",
       "...        ...        ...            ...                ...   \n",
       "7262       6.0        134      6037341.0                8.0   \n",
       "7263      17.0        134          157.0                2.0   \n",
       "7264       6.0        134    117745833.0               36.0   \n",
       "7265      17.0        134        47819.0                1.0   \n",
       "7266      17.0        134        98421.0                1.0   \n",
       "\n",
       "      Total Backward Packets  ...  min_seg_size_forward  Active Mean  \\\n",
       "0                        4.0  ...                  32.0          0.0   \n",
       "1                        2.0  ...                  32.0          0.0   \n",
       "2                        2.0  ...                  32.0          0.0   \n",
       "3                        2.0  ...                  32.0          0.0   \n",
       "4                        2.0  ...                  32.0          0.0   \n",
       "...                      ...  ...                   ...          ...   \n",
       "7262                     6.0  ...                  20.0     283421.0   \n",
       "7263                     2.0  ...                  20.0          0.0   \n",
       "7264                    34.0  ...                  20.0     220289.5   \n",
       "7265                     1.0  ...                  20.0          0.0   \n",
       "7266                     1.0  ...                  20.0          0.0   \n",
       "\n",
       "      Active Std  Active Max  Active Min  Idle Mean     Idle Std    Idle Max  \\\n",
       "0          0.000         0.0         0.0        0.0        0.000         0.0   \n",
       "1          0.000         0.0         0.0        0.0        0.000         0.0   \n",
       "2          0.000         0.0         0.0        0.0        0.000         0.0   \n",
       "3          0.000         0.0         0.0        0.0        0.000         0.0   \n",
       "4          0.000         0.0         0.0        0.0        0.000         0.0   \n",
       "...          ...         ...         ...        ...          ...         ...   \n",
       "7262       0.000    283421.0    283421.0  5753917.0        0.000   5753917.0   \n",
       "7263       0.000         0.0         0.0        0.0        0.000         0.0   \n",
       "7264  682382.033   2387143.0     22952.0  9591863.0  1403991.926  10000000.0   \n",
       "7265       0.000         0.0         0.0        0.0        0.000         0.0   \n",
       "7266       0.000         0.0         0.0        0.0        0.000         0.0   \n",
       "\n",
       "       Idle Min   Label  \n",
       "0           0.0  BENIGN  \n",
       "1           0.0  BENIGN  \n",
       "2           0.0  BENIGN  \n",
       "3           0.0  BENIGN  \n",
       "4           0.0  BENIGN  \n",
       "...         ...     ...  \n",
       "7262  5753917.0  BENIGN  \n",
       "7263        0.0  BENIGN  \n",
       "7264  5133889.0  BENIGN  \n",
       "7265        0.0  BENIGN  \n",
       "7266        0.0  BENIGN  \n",
       "\n",
       "[7267 rows x 84 columns]"
      ]
     },
     "execution_count": 2,
     "metadata": {},
     "output_type": "execute_result"
    }
   ],
   "source": [
    "df = pd.read_csv('web_attacks_balanced.csv')\n",
    "df"
   ]
  },
  {
   "cell_type": "markdown",
   "metadata": {},
   "source": [
    "Prepare feature vectors and labels:\n",
    "* transform categorical labels into numeric form with simple label encoding: \"1\" for samples with attacks and \"0\" for benign samples;\n",
    "* select the 10 most important features (see https://ispranproceedings.elpub.ru/jour/article/view/1348/1147)."
   ]
  },
  {
   "cell_type": "code",
   "execution_count": 3,
   "metadata": {},
   "outputs": [],
   "source": [
    "# Labels corresponding to attacks are marked as \"1\", benign labels - as \"0\".\n",
    "df['Label'] = df['Label'].apply(lambda x: 0 if x == 'BENIGN' else 1)\n",
    "\n",
    "# The 10 most important features.\n",
    "webattack_features = ['Average Packet Size',\n",
    "                      'Flow Bytes/s',\n",
    "                      'Max Packet Length',\n",
    "                      'Fwd IAT Min',\n",
    "                      'Fwd Packet Length Mean',\n",
    "                      'Total Length of Fwd Packets',\n",
    "                      'Flow IAT Mean',\n",
    "                      'Fwd IAT Std',\n",
    "                      'Fwd Packet Length Max',\n",
    "                      'Fwd Header Length']"
   ]
  },
  {
   "cell_type": "code",
   "execution_count": 4,
   "metadata": {},
   "outputs": [
    {
     "data": {
      "text/html": [
       "<div>\n",
       "<style scoped>\n",
       "    .dataframe tbody tr th:only-of-type {\n",
       "        vertical-align: middle;\n",
       "    }\n",
       "\n",
       "    .dataframe tbody tr th {\n",
       "        vertical-align: top;\n",
       "    }\n",
       "\n",
       "    .dataframe thead th {\n",
       "        text-align: right;\n",
       "    }\n",
       "</style>\n",
       "<table border=\"1\" class=\"dataframe\">\n",
       "  <thead>\n",
       "    <tr style=\"text-align: right;\">\n",
       "      <th></th>\n",
       "      <th>Average Packet Size</th>\n",
       "      <th>Flow Bytes/s</th>\n",
       "      <th>Max Packet Length</th>\n",
       "      <th>Fwd IAT Min</th>\n",
       "      <th>Fwd Packet Length Mean</th>\n",
       "      <th>Total Length of Fwd Packets</th>\n",
       "      <th>Flow IAT Mean</th>\n",
       "      <th>Fwd IAT Std</th>\n",
       "      <th>Fwd Packet Length Max</th>\n",
       "      <th>Fwd Header Length</th>\n",
       "    </tr>\n",
       "  </thead>\n",
       "  <tbody>\n",
       "    <tr>\n",
       "      <th>0</th>\n",
       "      <td>32.625000</td>\n",
       "      <td>6.628571e+05</td>\n",
       "      <td>29.0</td>\n",
       "      <td>1.0</td>\n",
       "      <td>29.000000</td>\n",
       "      <td>116.0</td>\n",
       "      <td>5.000000e+01</td>\n",
       "      <td>1.131651e+02</td>\n",
       "      <td>29.0</td>\n",
       "      <td>128.0</td>\n",
       "    </tr>\n",
       "    <tr>\n",
       "      <th>1</th>\n",
       "      <td>80.000000</td>\n",
       "      <td>1.568182e+06</td>\n",
       "      <td>94.0</td>\n",
       "      <td>3.0</td>\n",
       "      <td>44.000000</td>\n",
       "      <td>88.0</td>\n",
       "      <td>5.866667e+01</td>\n",
       "      <td>0.000000e+00</td>\n",
       "      <td>44.0</td>\n",
       "      <td>64.0</td>\n",
       "    </tr>\n",
       "    <tr>\n",
       "      <th>2</th>\n",
       "      <td>80.000000</td>\n",
       "      <td>1.827815e+06</td>\n",
       "      <td>94.0</td>\n",
       "      <td>3.0</td>\n",
       "      <td>44.000000</td>\n",
       "      <td>88.0</td>\n",
       "      <td>5.033333e+01</td>\n",
       "      <td>0.000000e+00</td>\n",
       "      <td>44.0</td>\n",
       "      <td>64.0</td>\n",
       "    </tr>\n",
       "    <tr>\n",
       "      <th>3</th>\n",
       "      <td>94.250000</td>\n",
       "      <td>2.000000e+06</td>\n",
       "      <td>112.0</td>\n",
       "      <td>3.0</td>\n",
       "      <td>51.000000</td>\n",
       "      <td>102.0</td>\n",
       "      <td>5.433333e+01</td>\n",
       "      <td>0.000000e+00</td>\n",
       "      <td>51.0</td>\n",
       "      <td>64.0</td>\n",
       "    </tr>\n",
       "    <tr>\n",
       "      <th>4</th>\n",
       "      <td>80.000000</td>\n",
       "      <td>1.693252e+06</td>\n",
       "      <td>94.0</td>\n",
       "      <td>3.0</td>\n",
       "      <td>44.000000</td>\n",
       "      <td>88.0</td>\n",
       "      <td>5.433333e+01</td>\n",
       "      <td>0.000000e+00</td>\n",
       "      <td>44.0</td>\n",
       "      <td>64.0</td>\n",
       "    </tr>\n",
       "    <tr>\n",
       "      <th>...</th>\n",
       "      <td>...</td>\n",
       "      <td>...</td>\n",
       "      <td>...</td>\n",
       "      <td>...</td>\n",
       "      <td>...</td>\n",
       "      <td>...</td>\n",
       "      <td>...</td>\n",
       "      <td>...</td>\n",
       "      <td>...</td>\n",
       "      <td>...</td>\n",
       "    </tr>\n",
       "    <tr>\n",
       "      <th>7262</th>\n",
       "      <td>327.500000</td>\n",
       "      <td>7.594403e+02</td>\n",
       "      <td>1460.0</td>\n",
       "      <td>3.0</td>\n",
       "      <td>46.500000</td>\n",
       "      <td>372.0</td>\n",
       "      <td>4.644108e+05</td>\n",
       "      <td>2.157444e+06</td>\n",
       "      <td>191.0</td>\n",
       "      <td>172.0</td>\n",
       "    </tr>\n",
       "    <tr>\n",
       "      <th>7263</th>\n",
       "      <td>69.000000</td>\n",
       "      <td>1.503185e+06</td>\n",
       "      <td>78.0</td>\n",
       "      <td>3.0</td>\n",
       "      <td>40.000000</td>\n",
       "      <td>80.0</td>\n",
       "      <td>5.233333e+01</td>\n",
       "      <td>0.000000e+00</td>\n",
       "      <td>40.0</td>\n",
       "      <td>40.0</td>\n",
       "    </tr>\n",
       "    <tr>\n",
       "      <th>7264</th>\n",
       "      <td>471.428571</td>\n",
       "      <td>2.802647e+02</td>\n",
       "      <td>3620.0</td>\n",
       "      <td>3.0</td>\n",
       "      <td>109.666667</td>\n",
       "      <td>3948.0</td>\n",
       "      <td>1.706461e+06</td>\n",
       "      <td>4.652067e+06</td>\n",
       "      <td>901.0</td>\n",
       "      <td>732.0</td>\n",
       "    </tr>\n",
       "    <tr>\n",
       "      <th>7265</th>\n",
       "      <td>110.500000</td>\n",
       "      <td>3.555072e+03</td>\n",
       "      <td>119.0</td>\n",
       "      <td>0.0</td>\n",
       "      <td>51.000000</td>\n",
       "      <td>51.0</td>\n",
       "      <td>4.781900e+04</td>\n",
       "      <td>0.000000e+00</td>\n",
       "      <td>51.0</td>\n",
       "      <td>20.0</td>\n",
       "    </tr>\n",
       "    <tr>\n",
       "      <th>7266</th>\n",
       "      <td>87.000000</td>\n",
       "      <td>1.361498e+03</td>\n",
       "      <td>94.0</td>\n",
       "      <td>0.0</td>\n",
       "      <td>40.000000</td>\n",
       "      <td>40.0</td>\n",
       "      <td>9.842100e+04</td>\n",
       "      <td>0.000000e+00</td>\n",
       "      <td>40.0</td>\n",
       "      <td>20.0</td>\n",
       "    </tr>\n",
       "  </tbody>\n",
       "</table>\n",
       "<p>7267 rows × 10 columns</p>\n",
       "</div>"
      ],
      "text/plain": [
       "      Average Packet Size  Flow Bytes/s  Max Packet Length  Fwd IAT Min  \\\n",
       "0               32.625000  6.628571e+05               29.0          1.0   \n",
       "1               80.000000  1.568182e+06               94.0          3.0   \n",
       "2               80.000000  1.827815e+06               94.0          3.0   \n",
       "3               94.250000  2.000000e+06              112.0          3.0   \n",
       "4               80.000000  1.693252e+06               94.0          3.0   \n",
       "...                   ...           ...                ...          ...   \n",
       "7262           327.500000  7.594403e+02             1460.0          3.0   \n",
       "7263            69.000000  1.503185e+06               78.0          3.0   \n",
       "7264           471.428571  2.802647e+02             3620.0          3.0   \n",
       "7265           110.500000  3.555072e+03              119.0          0.0   \n",
       "7266            87.000000  1.361498e+03               94.0          0.0   \n",
       "\n",
       "      Fwd Packet Length Mean  Total Length of Fwd Packets  Flow IAT Mean  \\\n",
       "0                  29.000000                        116.0   5.000000e+01   \n",
       "1                  44.000000                         88.0   5.866667e+01   \n",
       "2                  44.000000                         88.0   5.033333e+01   \n",
       "3                  51.000000                        102.0   5.433333e+01   \n",
       "4                  44.000000                         88.0   5.433333e+01   \n",
       "...                      ...                          ...            ...   \n",
       "7262               46.500000                        372.0   4.644108e+05   \n",
       "7263               40.000000                         80.0   5.233333e+01   \n",
       "7264              109.666667                       3948.0   1.706461e+06   \n",
       "7265               51.000000                         51.0   4.781900e+04   \n",
       "7266               40.000000                         40.0   9.842100e+04   \n",
       "\n",
       "       Fwd IAT Std  Fwd Packet Length Max  Fwd Header Length  \n",
       "0     1.131651e+02                   29.0              128.0  \n",
       "1     0.000000e+00                   44.0               64.0  \n",
       "2     0.000000e+00                   44.0               64.0  \n",
       "3     0.000000e+00                   51.0               64.0  \n",
       "4     0.000000e+00                   44.0               64.0  \n",
       "...            ...                    ...                ...  \n",
       "7262  2.157444e+06                  191.0              172.0  \n",
       "7263  0.000000e+00                   40.0               40.0  \n",
       "7264  4.652067e+06                  901.0              732.0  \n",
       "7265  0.000000e+00                   51.0               20.0  \n",
       "7266  0.000000e+00                   40.0               20.0  \n",
       "\n",
       "[7267 rows x 10 columns]"
      ]
     },
     "execution_count": 4,
     "metadata": {},
     "output_type": "execute_result"
    }
   ],
   "source": [
    "# Inspect these 10 features.\n",
    "df[webattack_features]"
   ]
  },
  {
   "cell_type": "code",
   "execution_count": 5,
   "metadata": {},
   "outputs": [
    {
     "name": "stdout",
     "output_type": "stream",
     "text": [
      "(7267, 10) (7267,)\n"
     ]
    }
   ],
   "source": [
    "# Get a target vector of the training set.\n",
    "y = df['Label'].values\n",
    "# Get a feature matrix of the training set.\n",
    "X = df[webattack_features].values\n",
    "# Show shapes of the target vector and the feature matrix.\n",
    "print(X.shape, y.shape)"
   ]
  },
  {
   "cell_type": "markdown",
   "metadata": {},
   "source": [
    "Split the dataset into a training set and a test set."
   ]
  },
  {
   "cell_type": "code",
   "execution_count": 6,
   "metadata": {},
   "outputs": [],
   "source": [
    "X_train, X_test, y_train, y_test = train_test_split(\n",
    "    X, y, test_size=0.25, shuffle=True, random_state=42)"
   ]
  },
  {
   "cell_type": "code",
   "execution_count": 7,
   "metadata": {},
   "outputs": [
    {
     "data": {
      "text/plain": [
       "(1817, 10)"
      ]
     },
     "execution_count": 7,
     "metadata": {},
     "output_type": "execute_result"
    }
   ],
   "source": [
    "X_test.shape"
   ]
  },
  {
   "cell_type": "markdown",
   "metadata": {},
   "source": [
    "## Training the initial Random Forest model"
   ]
  },
  {
   "cell_type": "markdown",
   "metadata": {},
   "source": [
    "Use a previously trained model for repeatability or use the following code to train and save a new Random Forest model."
   ]
  },
  {
   "cell_type": "code",
   "execution_count": null,
   "metadata": {},
   "outputs": [],
   "source": [
    "RFmodel = RandomForestClassifier(max_depth=5, n_estimators=5, max_features=3)\n",
    "RFmodel.fit(X_train, y_train)"
   ]
  },
  {
   "cell_type": "code",
   "execution_count": null,
   "metadata": {},
   "outputs": [],
   "source": [
    "with open('RFmodel.sav', 'wb') as f:\n",
    "    pickle.dump(RFmodel, f)"
   ]
  },
  {
   "cell_type": "markdown",
   "metadata": {},
   "source": [
    "Load a previously trained model."
   ]
  },
  {
   "cell_type": "code",
   "execution_count": 8,
   "metadata": {},
   "outputs": [],
   "source": [
    "RFmodel = pickle.load(open('RFmodel.sav', 'rb'))"
   ]
  },
  {
   "cell_type": "markdown",
   "metadata": {},
   "source": [
    "Get the Random Forest model's evaluation metrics for the test data."
   ]
  },
  {
   "cell_type": "code",
   "execution_count": 9,
   "metadata": {},
   "outputs": [
    {
     "data": {
      "text/plain": [
       "(1817,)"
      ]
     },
     "execution_count": 9,
     "metadata": {},
     "output_type": "execute_result"
    }
   ],
   "source": [
    "y_pred = RFmodel.predict(X_test)\n",
    "y_pred.shape"
   ]
  },
  {
   "cell_type": "code",
   "execution_count": 10,
   "metadata": {},
   "outputs": [
    {
     "data": {
      "text/plain": [
       "array([[1249,   16],\n",
       "       [  37,  515]], dtype=int64)"
      ]
     },
     "execution_count": 10,
     "metadata": {},
     "output_type": "execute_result"
    }
   ],
   "source": [
    "matrix = confusion_matrix(y_test, y_pred)\n",
    "matrix"
   ]
  },
  {
   "cell_type": "markdown",
   "metadata": {},
   "source": [
    "We use the following function to get evaluation metrics."
   ]
  },
  {
   "cell_type": "code",
   "execution_count": 11,
   "metadata": {},
   "outputs": [],
   "source": [
    "def print_metrics(y_eval, y_pred, average='binary'):\n",
    "    accuracy = accuracy_score(y_eval, y_pred)\n",
    "    precision = precision_score(y_eval, y_pred, average=average)\n",
    "    recall = recall_score(y_eval, y_pred, average=average)\n",
    "    f1 = f1_score(y_eval, y_pred, average=average)\n",
    "\n",
    "    print('Accuracy =', accuracy)\n",
    "    print('Precision =', precision)\n",
    "    print('Recall =', recall)\n",
    "    print('F1 =', f1)"
   ]
  },
  {
   "cell_type": "markdown",
   "metadata": {},
   "source": [
    "The initial Random Forest model's evaluation metrics for the test data: <a id='metrics'></a>"
   ]
  },
  {
   "cell_type": "code",
   "execution_count": 12,
   "metadata": {},
   "outputs": [
    {
     "name": "stdout",
     "output_type": "stream",
     "text": [
      "Accuracy = 0.9708310401761144\n",
      "Precision = 0.9698681732580038\n",
      "Recall = 0.9329710144927537\n",
      "F1 = 0.9510618651892891\n"
     ]
    }
   ],
   "source": [
    "print_metrics(y_test, y_pred)"
   ]
  },
  {
   "cell_type": "markdown",
   "metadata": {},
   "source": [
    "## Evasion attack"
   ]
  },
  {
   "cell_type": "markdown",
   "metadata": {},
   "source": [
    "We modify the \"Total Length of Fwd Packets\" feature of the samples to implement the evasion attack.\n",
    "\n",
    "First, inspect non-zero values of the \"Total Length of Fwd Packets\" feature for samples with the \"attack\" type."
   ]
  },
  {
   "cell_type": "code",
   "execution_count": 13,
   "metadata": {},
   "outputs": [
    {
     "name": "stdout",
     "output_type": "stream",
     "text": [
      "# 14 => 383.0\n",
      "# 47 => 48783.0\n",
      "# 62 => 43951.0\n",
      "# 84 => 5927.0\n",
      "# 94 => 383.0\n",
      "# 129 => 383.0\n",
      "# 260 => 460.0\n",
      "# 281 => 602.0\n",
      "# 356 => 43951.0\n",
      "# 530 => 43951.0\n",
      "# 560 => 43906.0\n",
      "# 571 => 43951.0\n",
      "# 646 => 43951.0\n",
      "# 657 => 383.0\n",
      "# 715 => 43951.0\n",
      "# 728 => 43906.0\n",
      "# 779 => 43951.0\n",
      "# 817 => 43906.0\n",
      "# 1166 => 383.0\n",
      "# 1196 => 341.0\n",
      "# 1355 => 43951.0\n",
      "# 1467 => 43951.0\n",
      "# 1484 => 43906.0\n",
      "# 1519 => 383.0\n",
      "# 1524 => 48783.0\n",
      "# 1585 => 599.0\n",
      "# 1593 => 43906.0\n",
      "# 1618 => 43951.0\n",
      "# 1737 => 602.0\n",
      "# 1753 => 43906.0\n",
      "# 1758 => 602.0\n",
      "# 1759 => 48695.0\n",
      "# 1804 => 2972.0\n",
      "# 1810 => 383.0\n"
     ]
    }
   ],
   "source": [
    "for i in range(0, X_test.shape[0]):\n",
    "    # The index of the \"Total Length of Fwd Packets\" feature is 5.\n",
    "    if (X_test[i, 5] > 0) and (y_test[i] == 1):\n",
    "        print('#', i, '=>', X_test[i, 5])"
   ]
  },
  {
   "cell_type": "markdown",
   "metadata": {},
   "source": [
    "The following function implements the evasion attack and finds adversarial samples for the given samples. It returns a copy of a given feature matrix with found adversarial samples, which replaced original samples in the matrix, and indices of these samples.\n",
    "\n",
    "The function works as follows:\n",
    "* all samples that are correctly labeled by the model as an attack are processed;\n",
    "* for these samples, a value of the \"Total Length of Fwd Packets\" feature is modified within the range \\[original value, original value + 500);\n",
    "* if the model changes its prediction for the sample with the modified \"Total Length of Fwd Packets\" feature, this sample is adversarial. The function prints out the index and the new \"Total Length of Fwd Packets\" value of this sample."
   ]
  },
  {
   "cell_type": "code",
   "execution_count": 14,
   "metadata": {},
   "outputs": [],
   "source": [
    "def evasion_attack(samples, labels, model):\n",
    "    evasion_samples = samples.copy()\n",
    "    sample_index = np.empty((0), dtype=int)\n",
    "\n",
    "    for i in range(0, samples.shape[0]):\n",
    "        if (labels[i] == 1) and (model.predict(samples[[i]]) == 1):\n",
    "            evasion_sample = samples[[i]]\n",
    "            j = math.ceil(samples[i, 5])\n",
    "            for total_length_fwd_packets in range(j, j + 500):\n",
    "                evasion_sample[0, 5] = total_length_fwd_packets\n",
    "                pred = model.predict(evasion_sample)\n",
    "                if pred[0] < 1:\n",
    "                    print(i, total_length_fwd_packets)\n",
    "                    sample_index = np.append(sample_index, i)\n",
    "                    evasion_samples[i, 5] = total_length_fwd_packets\n",
    "                    break\n",
    "    return evasion_samples, sample_index"
   ]
  },
  {
   "cell_type": "markdown",
   "metadata": {},
   "source": [
    "Find adversarial samples for the test set."
   ]
  },
  {
   "cell_type": "code",
   "execution_count": 15,
   "metadata": {},
   "outputs": [
    {
     "name": "stdout",
     "output_type": "stream",
     "text": [
      "14 606\n",
      "94 606\n",
      "129 606\n",
      "260 606\n",
      "281 606\n",
      "657 606\n",
      "1166 606\n",
      "1519 606\n",
      "1737 606\n",
      "1758 606\n",
      "1810 606\n"
     ]
    }
   ],
   "source": [
    "X_test_evasion_attack, evasion_sample_index = evasion_attack(\n",
    "    X_test, y_test, RFmodel)"
   ]
  },
  {
   "cell_type": "markdown",
   "metadata": {},
   "source": [
    "We found adversarial samples for original samples with following indices:"
   ]
  },
  {
   "cell_type": "code",
   "execution_count": 16,
   "metadata": {},
   "outputs": [
    {
     "data": {
      "text/plain": [
       "array([  14,   94,  129,  260,  281,  657, 1166, 1519, 1737, 1758, 1810])"
      ]
     },
     "execution_count": 16,
     "metadata": {},
     "output_type": "execute_result"
    }
   ],
   "source": [
    "evasion_sample_index"
   ]
  },
  {
   "cell_type": "markdown",
   "metadata": {},
   "source": [
    "Here we can see the difference between an example of an original sample and its adversarial replacement."
   ]
  },
  {
   "cell_type": "code",
   "execution_count": 17,
   "metadata": {},
   "outputs": [
    {
     "name": "stdout",
     "output_type": "stream",
     "text": [
      "An original sample from the test set:\n",
      " [[9.41250000e+01 8.79764779e+01 3.83000000e+02 8.97000000e+02\n",
      "  9.57500000e+01 3.83000000e+02 1.22272943e+06 2.05109986e+06\n",
      "  3.83000000e+02 1.36000000e+02]]\n",
      "A prediction for the original sample:  1\n"
     ]
    }
   ],
   "source": [
    "print(\"An original sample from the test set:\\n\", X_test[[94]])\n",
    "pred = RFmodel.predict(X_test[[94]])\n",
    "print(\"A prediction for the original sample: \", pred[0])"
   ]
  },
  {
   "cell_type": "code",
   "execution_count": 18,
   "metadata": {},
   "outputs": [
    {
     "name": "stdout",
     "output_type": "stream",
     "text": [
      "An adversarial sample:\n",
      " [[9.41250000e+01 8.79764779e+01 3.83000000e+02 8.97000000e+02\n",
      "  9.57500000e+01 6.06000000e+02 1.22272943e+06 2.05109986e+06\n",
      "  3.83000000e+02 1.36000000e+02]]\n",
      "A prediction for the adversarial sample:  0\n"
     ]
    }
   ],
   "source": [
    "print(\"An adversarial sample:\\n\", X_test_evasion_attack[[94]])\n",
    "y_pred_evasion_attack = RFmodel.predict(X_test_evasion_attack[[94]])\n",
    "print(\"A prediction for the adversarial sample: \", y_pred_evasion_attack[0])"
   ]
  },
  {
   "cell_type": "markdown",
   "metadata": {},
   "source": [
    "As we can see, the adversarial sample misleads the model: the classifier changes its answer from \"1\" (an attack) to \"0\" (not an attack). It is important to note that the found sample retains its attack capability and is, in fact, an effective adversarial sample: it is feasible to increase the value of the \"Total Length of Fwd Packets\" feature by padding the payload with zeroes/spaces/etc."
   ]
  },
  {
   "cell_type": "markdown",
   "metadata": {},
   "source": [
    "Now, we inspect the model's evaluation metrics for the test data with the addition of adversarial samples."
   ]
  },
  {
   "cell_type": "code",
   "execution_count": 19,
   "metadata": {},
   "outputs": [
    {
     "data": {
      "text/plain": [
       "(1817,)"
      ]
     },
     "execution_count": 19,
     "metadata": {},
     "output_type": "execute_result"
    }
   ],
   "source": [
    "y_pred_evasion_attack = RFmodel.predict(X_test_evasion_attack)\n",
    "y_pred_evasion_attack.shape"
   ]
  },
  {
   "cell_type": "code",
   "execution_count": 20,
   "metadata": {},
   "outputs": [
    {
     "data": {
      "text/plain": [
       "array([[1249,   16],\n",
       "       [  48,  504]], dtype=int64)"
      ]
     },
     "execution_count": 20,
     "metadata": {},
     "output_type": "execute_result"
    }
   ],
   "source": [
    "matrix = confusion_matrix(y_test, y_pred_evasion_attack)\n",
    "matrix"
   ]
  },
  {
   "cell_type": "code",
   "execution_count": 21,
   "metadata": {},
   "outputs": [
    {
     "name": "stdout",
     "output_type": "stream",
     "text": [
      "Accuracy = 0.9647771051183269\n",
      "Precision = 0.9692307692307692\n",
      "Recall = 0.9130434782608695\n",
      "F1 = 0.9402985074626865\n"
     ]
    }
   ],
   "source": [
    "print_metrics(y_test, y_pred_evasion_attack)"
   ]
  },
  {
   "cell_type": "markdown",
   "metadata": {},
   "source": [
    "As we can see, the performance metrics degrade after the attack ([see original metrics of the model](#metrics)), because adversarial samples that are added into the test set mislead the model."
   ]
  },
  {
   "cell_type": "markdown",
   "metadata": {},
   "source": [
    "## Defence with adversarial training"
   ]
  },
  {
   "cell_type": "markdown",
   "metadata": {},
   "source": [
    "To defend our model against the implemented evasion attack, we find adversarial samples for the whole dataset and perform adversarial training with them."
   ]
  },
  {
   "cell_type": "code",
   "execution_count": 22,
   "metadata": {},
   "outputs": [
    {
     "name": "stdout",
     "output_type": "stream",
     "text": [
      "495 624\n",
      "647 606\n",
      "674 606\n",
      "731 606\n",
      "790 606\n",
      "822 606\n",
      "848 606\n",
      "918 606\n",
      "950 606\n",
      "979 606\n",
      "1014 606\n",
      "1045 606\n",
      "1069 606\n",
      "1097 606\n",
      "1151 606\n",
      "1198 606\n",
      "1251 606\n",
      "1280 606\n",
      "1353 606\n",
      "1380 606\n",
      "1410 606\n",
      "1440 606\n",
      "1482 606\n",
      "1513 606\n",
      "1553 606\n",
      "1580 606\n",
      "1621 606\n",
      "1675 606\n",
      "1698 606\n",
      "1748 606\n",
      "1803 606\n",
      "1827 606\n",
      "1862 606\n",
      "1969 606\n",
      "1995 606\n",
      "2033 606\n",
      "2080 606\n",
      "2136 606\n",
      "2186 606\n",
      "2211 606\n",
      "2234 606\n",
      "2284 606\n",
      "2311 606\n",
      "2349 606\n",
      "2386 606\n",
      "2422 606\n",
      "2451 606\n",
      "2522 606\n",
      "2582 606\n",
      "2612 606\n",
      "2645 606\n",
      "2674 606\n",
      "2711 606\n",
      "2762 606\n",
      "2797 606\n",
      "2839 606\n",
      "2871 606\n",
      "2905 606\n",
      "2954 606\n",
      "3029 606\n",
      "3059 606\n",
      "3095 606\n",
      "3140 606\n",
      "3180 606\n",
      "3211 606\n",
      "3273 606\n",
      "3332 606\n",
      "3366 606\n",
      "3407 606\n",
      "3448 606\n",
      "3481 606\n",
      "5085 606\n",
      "5087 606\n",
      "5092 606\n",
      "5126 606\n",
      "5130 606\n",
      "5151 606\n",
      "5197 606\n"
     ]
    }
   ],
   "source": [
    "X_evasion_attack, evasion_sample_index_ = evasion_attack(X, y, RFmodel)"
   ]
  },
  {
   "cell_type": "markdown",
   "metadata": {},
   "source": [
    "We found adversarial samples for original samples with following indices:"
   ]
  },
  {
   "cell_type": "code",
   "execution_count": 23,
   "metadata": {},
   "outputs": [
    {
     "data": {
      "text/plain": [
       "array([ 495,  647,  674,  731,  790,  822,  848,  918,  950,  979, 1014,\n",
       "       1045, 1069, 1097, 1151, 1198, 1251, 1280, 1353, 1380, 1410, 1440,\n",
       "       1482, 1513, 1553, 1580, 1621, 1675, 1698, 1748, 1803, 1827, 1862,\n",
       "       1969, 1995, 2033, 2080, 2136, 2186, 2211, 2234, 2284, 2311, 2349,\n",
       "       2386, 2422, 2451, 2522, 2582, 2612, 2645, 2674, 2711, 2762, 2797,\n",
       "       2839, 2871, 2905, 2954, 3029, 3059, 3095, 3140, 3180, 3211, 3273,\n",
       "       3332, 3366, 3407, 3448, 3481, 5085, 5087, 5092, 5126, 5130, 5151,\n",
       "       5197])"
      ]
     },
     "execution_count": 23,
     "metadata": {},
     "output_type": "execute_result"
    }
   ],
   "source": [
    "evasion_sample_index_"
   ]
  },
  {
   "cell_type": "markdown",
   "metadata": {},
   "source": [
    "Get the model's evaluation metrics for the original data with the addition of adversarial samples."
   ]
  },
  {
   "cell_type": "code",
   "execution_count": 24,
   "metadata": {},
   "outputs": [
    {
     "data": {
      "text/plain": [
       "(7267,)"
      ]
     },
     "execution_count": 24,
     "metadata": {},
     "output_type": "execute_result"
    }
   ],
   "source": [
    "y_pred_evasion_attack_ = RFmodel.predict(X_evasion_attack)\n",
    "y_pred_evasion_attack_.shape"
   ]
  },
  {
   "cell_type": "code",
   "execution_count": 25,
   "metadata": {},
   "outputs": [
    {
     "data": {
      "text/plain": [
       "array([[5036,   51],\n",
       "       [ 198, 1982]], dtype=int64)"
      ]
     },
     "execution_count": 25,
     "metadata": {},
     "output_type": "execute_result"
    }
   ],
   "source": [
    "matrix = confusion_matrix(y, y_pred_evasion_attack_)\n",
    "matrix"
   ]
  },
  {
   "cell_type": "code",
   "execution_count": 26,
   "metadata": {},
   "outputs": [
    {
     "name": "stdout",
     "output_type": "stream",
     "text": [
      "Accuracy = 0.9657355167194165\n",
      "Precision = 0.9749139203148057\n",
      "Recall = 0.9091743119266055\n",
      "F1 = 0.9408972228815571\n"
     ]
    }
   ],
   "source": [
    "print_metrics(y, y_pred_evasion_attack_)"
   ]
  },
  {
   "cell_type": "markdown",
   "metadata": {},
   "source": [
    "Now, extend the original dataset with adversarial samples that are correctly labeled as an \"attack\"."
   ]
  },
  {
   "cell_type": "code",
   "execution_count": 27,
   "metadata": {},
   "outputs": [],
   "source": [
    "X_defence = X\n",
    "y_defence = y\n",
    "for i in evasion_sample_index_:\n",
    "    X_defence = np.vstack([X_defence, X_evasion_attack[i]]) \n",
    "    y_defence = np.append(y_defence, 1)"
   ]
  },
  {
   "cell_type": "code",
   "execution_count": 28,
   "metadata": {},
   "outputs": [
    {
     "name": "stdout",
     "output_type": "stream",
     "text": [
      "Shapes of the original dataset:  (7267, 10) (7267,)\n",
      "Shapes of the extended dataset:  (7345, 10) (7345,)\n"
     ]
    }
   ],
   "source": [
    "print(\"Shapes of the original dataset: \", X.shape, y.shape)\n",
    "print(\"Shapes of the extended dataset: \", X_defence.shape, y_defence.shape)"
   ]
  },
  {
   "cell_type": "markdown",
   "metadata": {},
   "source": [
    "Split the extended dataset into a training set and a test set."
   ]
  },
  {
   "cell_type": "code",
   "execution_count": 29,
   "metadata": {},
   "outputs": [],
   "source": [
    "X_train_defence, X_test_defence, y_train_defence, y_test_defence = train_test_split(\n",
    "    X_defence, y_defence, test_size=0.25, shuffle=True, random_state=42)"
   ]
  },
  {
   "cell_type": "code",
   "execution_count": 30,
   "metadata": {},
   "outputs": [
    {
     "data": {
      "text/plain": [
       "(5508, 10)"
      ]
     },
     "execution_count": 30,
     "metadata": {},
     "output_type": "execute_result"
    }
   ],
   "source": [
    "X_train_defence.shape"
   ]
  },
  {
   "cell_type": "code",
   "execution_count": 31,
   "metadata": {},
   "outputs": [
    {
     "data": {
      "text/plain": [
       "(1837, 10)"
      ]
     },
     "execution_count": 31,
     "metadata": {},
     "output_type": "execute_result"
    }
   ],
   "source": [
    "X_test_defence.shape"
   ]
  },
  {
   "cell_type": "markdown",
   "metadata": {},
   "source": [
    "Finally, train a new model on a new training set."
   ]
  },
  {
   "cell_type": "code",
   "execution_count": null,
   "metadata": {},
   "outputs": [],
   "source": [
    "RFmodel_defence = RandomForestClassifier(\n",
    "    max_depth=5, n_estimators=5, max_features=3)\n",
    "RFmodel_defence.fit(X_train_defence, y_train_defence)"
   ]
  },
  {
   "cell_type": "markdown",
   "metadata": {},
   "source": [
    "Save the adversarially trained model for repeatability."
   ]
  },
  {
   "cell_type": "code",
   "execution_count": null,
   "metadata": {},
   "outputs": [],
   "source": [
    "with open('RFmodel_defence.sav', 'wb') as f:\n",
    "    pickle.dump(RFmodel_defence, f)"
   ]
  },
  {
   "cell_type": "markdown",
   "metadata": {},
   "source": [
    "Load the adversarially trained model."
   ]
  },
  {
   "cell_type": "code",
   "execution_count": 32,
   "metadata": {},
   "outputs": [],
   "source": [
    "RFmodel_defence = pickle.load(open('RFmodel_defence.sav', 'rb'))"
   ]
  },
  {
   "cell_type": "code",
   "execution_count": 33,
   "metadata": {},
   "outputs": [],
   "source": [
    "y_pred_defence = RFmodel_defence.predict(X_test_defence)"
   ]
  },
  {
   "cell_type": "code",
   "execution_count": 34,
   "metadata": {},
   "outputs": [
    {
     "data": {
      "text/plain": [
       "array([[1259,   13],\n",
       "       [  42,  523]], dtype=int64)"
      ]
     },
     "execution_count": 34,
     "metadata": {},
     "output_type": "execute_result"
    }
   ],
   "source": [
    "matrix = confusion_matrix(y_test_defence, y_pred_defence)\n",
    "matrix"
   ]
  },
  {
   "cell_type": "code",
   "execution_count": 35,
   "metadata": {},
   "outputs": [
    {
     "name": "stdout",
     "output_type": "stream",
     "text": [
      "Accuracy = 0.9700598802395209\n",
      "Precision = 0.9757462686567164\n",
      "Recall = 0.9256637168141593\n",
      "F1 = 0.9500454132606722\n"
     ]
    }
   ],
   "source": [
    "print_metrics(y_test_defence, y_pred_defence)"
   ]
  },
  {
   "cell_type": "markdown",
   "metadata": {},
   "source": [
    "As we can see, the performance metrics are nearly restored to their values before the evasion attack ([see original metrics of the model](#metrics)). We may conclude that the implemented defence, i.e. adversarial training, increased the robustness of the model against adversarial attacks."
   ]
  }
 ],
 "metadata": {
  "kernelspec": {
   "display_name": "Python 3 (ipykernel)",
   "language": "python",
   "name": "python3"
  },
  "language_info": {
   "codemirror_mode": {
    "name": "ipython",
    "version": 3
   },
   "file_extension": ".py",
   "mimetype": "text/x-python",
   "name": "python",
   "nbconvert_exporter": "python",
   "pygments_lexer": "ipython3",
   "version": "3.9.7"
  }
 },
 "nbformat": 4,
 "nbformat_minor": 4
}
