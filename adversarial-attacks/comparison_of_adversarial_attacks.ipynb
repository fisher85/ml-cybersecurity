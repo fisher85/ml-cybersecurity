{
 "cells": [
  {
   "cell_type": "markdown",
   "id": "168874d6",
   "metadata": {},
   "source": [
    "# Comparison of adversarial attacks "
   ]
  },
  {
   "cell_type": "markdown",
   "id": "c0522f15",
   "metadata": {},
   "source": [
    "In this notebook we compare the effectiveness of 4 adversarial attacks that target a ML-based IDS.\n",
    "\n",
    "The following attacks are compared:\n",
    "- HopSkipJump;\n",
    "- ZOO;\n",
    "- SignOPT;\n",
    "- LT-Attack.\n",
    "\n",
    "We use a Scikit-learn version of a Random Forest classifier with the Adversarial Robustness Toolbox (ART) library implementations of ZOO, HSJA, and SignOPT attacks and XGBoost version of a Random Forest classifier with LT-Attack.\n",
    "\n",
    "Training data: https://github.com/fisher85/ml-cybersecurity/blob/master/python-web-attack-detection/datasets/web_attacks_balanced.zip\n",
    "\n",
    "Training dataset is the balanced dataset based on CICIDS2017: https://www.unb.ca/cic/datasets/ids-2017.html\n",
    "    \n",
    "Sources:\n",
    "- Chen P.-Y., Zhang H., Sharma Y., Yi J., Hsieh C.-J. ZOO: Zeroth Order Optimization Based Black-box Attacks to Deep Neural Networks without Training Substitute Models. Proceedings of the 10th ACM Workshop on Artificial Intelligence and Security (AISec '17). Association for Computing Machinery, New York, NY, USA, 2017, pp. 15–26.\n",
    "- J. Chen, M. I. Jordan and M. J. Wainwright, \"HopSkipJumpAttack: A Query-Efficient Decision-Based Attack,\" 2020 IEEE Symposium on Security and Privacy (SP), San Francisco, CA, USA, 2020, pp. 1277-1294, doi: 10.1109/SP40000.2020.00045.\n",
    "- Cheng M., Singh S., Chen P.H., Chen P.-Y., Liu S., Hsieh C.-J. Sign-OPT: A Query-Efficient Hard-label Adversarial Attack // International Conference on Learning Representations. 2020, 16 p.\n",
    "- https://adversarial-robustness-toolbox.readthedocs.io/en/latest/modules/attacks/evasion.htm\n",
    "- Zhang C., Zhang H., Hsieh C.-J. An Efficient Adversarial Attack for Tree Ensembles. Advances in Neural Information Processing Systems (NeurIPS), vol. 33, 2020, pp. 16165-16176.\n",
    "- https://github.com/chong-z/tree-ensemble-attack"
   ]
  },
  {
   "cell_type": "code",
   "execution_count": null,
   "metadata": {},
   "outputs": [],
   "source": [
    "%pip install adversarial-robustness-toolbox"
   ]
  },
  {
   "cell_type": "markdown",
   "id": "2111a88c-6e8d-47c1-a94d-b854fa91cc2d",
   "metadata": {},
   "source": [
    "## Data preprocessing"
   ]
  },
  {
   "cell_type": "code",
   "execution_count": 1,
   "id": "bcbb795b-4629-40ed-93a0-f7d040a8c5bf",
   "metadata": {},
   "outputs": [],
   "source": [
    "import pickle\n",
    "import time\n",
    "import warnings\n",
    "\n",
    "from art.attacks.evasion import HopSkipJump, SignOPTAttack, ZooAttack\n",
    "from art.estimators.classification import SklearnClassifier\n",
    "import numpy as np\n",
    "import pandas as pd\n",
    "from sklearn.datasets import dump_svmlight_file\n",
    "from sklearn.ensemble import RandomForestClassifier\n",
    "from sklearn.metrics import accuracy_score, confusion_matrix, f1_score, precision_score, recall_score\n",
    "from sklearn.model_selection import train_test_split\n",
    "import sklearn.preprocessing\n",
    "import xgboost as xgb\n",
    "\n",
    "warnings.filterwarnings('ignore')"
   ]
  },
  {
   "cell_type": "markdown",
   "id": "8f09fc2a",
   "metadata": {},
   "source": [
    "Download the dataset from Github to Google Colab and unzip it."
   ]
  },
  {
   "cell_type": "code",
   "execution_count": null,
   "id": "54ded2da",
   "metadata": {},
   "outputs": [],
   "source": [
    "!wget https://github.com/fisher85/ml-cybersecurity/blob/master/python-web-attack-detection/datasets/web_attacks_balanced.zip?raw=true -O dataset.zip\n",
    "!unzip -u dataset.zip"
   ]
  },
  {
   "cell_type": "markdown",
   "id": "12f990fc",
   "metadata": {},
   "source": [
    "Load our dataset. We use the balanced dataset based on CICIDS2017 (see the description of this balanced dataset in the previous work: https://ispranproceedings.elpub.ru/jour/article/view/1348/1147)."
   ]
  },
  {
   "cell_type": "code",
   "execution_count": 2,
   "id": "d5acfca9-1bb5-4355-b1d3-c7f3a66a32b4",
   "metadata": {},
   "outputs": [
    {
     "data": {
      "text/html": [
       "<div>\n",
       "<style scoped>\n",
       "    .dataframe tbody tr th:only-of-type {\n",
       "        vertical-align: middle;\n",
       "    }\n",
       "\n",
       "    .dataframe tbody tr th {\n",
       "        vertical-align: top;\n",
       "    }\n",
       "\n",
       "    .dataframe thead th {\n",
       "        text-align: right;\n",
       "    }\n",
       "</style>\n",
       "<table border=\"1\" class=\"dataframe\">\n",
       "  <thead>\n",
       "    <tr style=\"text-align: right;\">\n",
       "      <th></th>\n",
       "      <th>Flow ID</th>\n",
       "      <th>Source IP</th>\n",
       "      <th>Source Port</th>\n",
       "      <th>Destination IP</th>\n",
       "      <th>Destination Port</th>\n",
       "      <th>Protocol</th>\n",
       "      <th>Timestamp</th>\n",
       "      <th>Flow Duration</th>\n",
       "      <th>Total Fwd Packets</th>\n",
       "      <th>Total Backward Packets</th>\n",
       "      <th>...</th>\n",
       "      <th>min_seg_size_forward</th>\n",
       "      <th>Active Mean</th>\n",
       "      <th>Active Std</th>\n",
       "      <th>Active Max</th>\n",
       "      <th>Active Min</th>\n",
       "      <th>Idle Mean</th>\n",
       "      <th>Idle Std</th>\n",
       "      <th>Idle Max</th>\n",
       "      <th>Idle Min</th>\n",
       "      <th>Label</th>\n",
       "    </tr>\n",
       "  </thead>\n",
       "  <tbody>\n",
       "    <tr>\n",
       "      <th>0</th>\n",
       "      <td>60803</td>\n",
       "      <td>1261</td>\n",
       "      <td>39923.0</td>\n",
       "      <td>1599</td>\n",
       "      <td>53.0</td>\n",
       "      <td>17.0</td>\n",
       "      <td>181</td>\n",
       "      <td>350.0</td>\n",
       "      <td>4.0</td>\n",
       "      <td>4.0</td>\n",
       "      <td>...</td>\n",
       "      <td>32.0</td>\n",
       "      <td>0.0</td>\n",
       "      <td>0.000</td>\n",
       "      <td>0.0</td>\n",
       "      <td>0.0</td>\n",
       "      <td>0.0</td>\n",
       "      <td>0.000</td>\n",
       "      <td>0.0</td>\n",
       "      <td>0.0</td>\n",
       "      <td>BENIGN</td>\n",
       "    </tr>\n",
       "    <tr>\n",
       "      <th>1</th>\n",
       "      <td>69607</td>\n",
       "      <td>1265</td>\n",
       "      <td>3480.0</td>\n",
       "      <td>1599</td>\n",
       "      <td>53.0</td>\n",
       "      <td>17.0</td>\n",
       "      <td>181</td>\n",
       "      <td>176.0</td>\n",
       "      <td>2.0</td>\n",
       "      <td>2.0</td>\n",
       "      <td>...</td>\n",
       "      <td>32.0</td>\n",
       "      <td>0.0</td>\n",
       "      <td>0.000</td>\n",
       "      <td>0.0</td>\n",
       "      <td>0.0</td>\n",
       "      <td>0.0</td>\n",
       "      <td>0.000</td>\n",
       "      <td>0.0</td>\n",
       "      <td>0.0</td>\n",
       "      <td>BENIGN</td>\n",
       "    </tr>\n",
       "    <tr>\n",
       "      <th>2</th>\n",
       "      <td>33770</td>\n",
       "      <td>1256</td>\n",
       "      <td>16043.0</td>\n",
       "      <td>1599</td>\n",
       "      <td>53.0</td>\n",
       "      <td>17.0</td>\n",
       "      <td>181</td>\n",
       "      <td>151.0</td>\n",
       "      <td>2.0</td>\n",
       "      <td>2.0</td>\n",
       "      <td>...</td>\n",
       "      <td>32.0</td>\n",
       "      <td>0.0</td>\n",
       "      <td>0.000</td>\n",
       "      <td>0.0</td>\n",
       "      <td>0.0</td>\n",
       "      <td>0.0</td>\n",
       "      <td>0.000</td>\n",
       "      <td>0.0</td>\n",
       "      <td>0.0</td>\n",
       "      <td>BENIGN</td>\n",
       "    </tr>\n",
       "    <tr>\n",
       "      <th>3</th>\n",
       "      <td>69711</td>\n",
       "      <td>1265</td>\n",
       "      <td>49221.0</td>\n",
       "      <td>1599</td>\n",
       "      <td>53.0</td>\n",
       "      <td>17.0</td>\n",
       "      <td>181</td>\n",
       "      <td>163.0</td>\n",
       "      <td>2.0</td>\n",
       "      <td>2.0</td>\n",
       "      <td>...</td>\n",
       "      <td>32.0</td>\n",
       "      <td>0.0</td>\n",
       "      <td>0.000</td>\n",
       "      <td>0.0</td>\n",
       "      <td>0.0</td>\n",
       "      <td>0.0</td>\n",
       "      <td>0.000</td>\n",
       "      <td>0.0</td>\n",
       "      <td>0.0</td>\n",
       "      <td>BENIGN</td>\n",
       "    </tr>\n",
       "    <tr>\n",
       "      <th>4</th>\n",
       "      <td>69659</td>\n",
       "      <td>1265</td>\n",
       "      <td>41529.0</td>\n",
       "      <td>1599</td>\n",
       "      <td>53.0</td>\n",
       "      <td>17.0</td>\n",
       "      <td>181</td>\n",
       "      <td>163.0</td>\n",
       "      <td>2.0</td>\n",
       "      <td>2.0</td>\n",
       "      <td>...</td>\n",
       "      <td>32.0</td>\n",
       "      <td>0.0</td>\n",
       "      <td>0.000</td>\n",
       "      <td>0.0</td>\n",
       "      <td>0.0</td>\n",
       "      <td>0.0</td>\n",
       "      <td>0.000</td>\n",
       "      <td>0.0</td>\n",
       "      <td>0.0</td>\n",
       "      <td>BENIGN</td>\n",
       "    </tr>\n",
       "    <tr>\n",
       "      <th>...</th>\n",
       "      <td>...</td>\n",
       "      <td>...</td>\n",
       "      <td>...</td>\n",
       "      <td>...</td>\n",
       "      <td>...</td>\n",
       "      <td>...</td>\n",
       "      <td>...</td>\n",
       "      <td>...</td>\n",
       "      <td>...</td>\n",
       "      <td>...</td>\n",
       "      <td>...</td>\n",
       "      <td>...</td>\n",
       "      <td>...</td>\n",
       "      <td>...</td>\n",
       "      <td>...</td>\n",
       "      <td>...</td>\n",
       "      <td>...</td>\n",
       "      <td>...</td>\n",
       "      <td>...</td>\n",
       "      <td>...</td>\n",
       "      <td>...</td>\n",
       "    </tr>\n",
       "    <tr>\n",
       "      <th>7262</th>\n",
       "      <td>18877</td>\n",
       "      <td>1257</td>\n",
       "      <td>62969.0</td>\n",
       "      <td>2409</td>\n",
       "      <td>443.0</td>\n",
       "      <td>6.0</td>\n",
       "      <td>134</td>\n",
       "      <td>6037341.0</td>\n",
       "      <td>8.0</td>\n",
       "      <td>6.0</td>\n",
       "      <td>...</td>\n",
       "      <td>20.0</td>\n",
       "      <td>283421.0</td>\n",
       "      <td>0.000</td>\n",
       "      <td>283421.0</td>\n",
       "      <td>283421.0</td>\n",
       "      <td>5753917.0</td>\n",
       "      <td>0.000</td>\n",
       "      <td>5753917.0</td>\n",
       "      <td>5753917.0</td>\n",
       "      <td>BENIGN</td>\n",
       "    </tr>\n",
       "    <tr>\n",
       "      <th>7263</th>\n",
       "      <td>41113</td>\n",
       "      <td>1257</td>\n",
       "      <td>63397.0</td>\n",
       "      <td>1599</td>\n",
       "      <td>53.0</td>\n",
       "      <td>17.0</td>\n",
       "      <td>134</td>\n",
       "      <td>157.0</td>\n",
       "      <td>2.0</td>\n",
       "      <td>2.0</td>\n",
       "      <td>...</td>\n",
       "      <td>20.0</td>\n",
       "      <td>0.0</td>\n",
       "      <td>0.000</td>\n",
       "      <td>0.0</td>\n",
       "      <td>0.0</td>\n",
       "      <td>0.0</td>\n",
       "      <td>0.000</td>\n",
       "      <td>0.0</td>\n",
       "      <td>0.0</td>\n",
       "      <td>BENIGN</td>\n",
       "    </tr>\n",
       "    <tr>\n",
       "      <th>7264</th>\n",
       "      <td>18825</td>\n",
       "      <td>1257</td>\n",
       "      <td>63000.0</td>\n",
       "      <td>2308</td>\n",
       "      <td>443.0</td>\n",
       "      <td>6.0</td>\n",
       "      <td>134</td>\n",
       "      <td>117745833.0</td>\n",
       "      <td>36.0</td>\n",
       "      <td>34.0</td>\n",
       "      <td>...</td>\n",
       "      <td>20.0</td>\n",
       "      <td>220289.5</td>\n",
       "      <td>682382.033</td>\n",
       "      <td>2387143.0</td>\n",
       "      <td>22952.0</td>\n",
       "      <td>9591863.0</td>\n",
       "      <td>1403991.926</td>\n",
       "      <td>10000000.0</td>\n",
       "      <td>5133889.0</td>\n",
       "      <td>BENIGN</td>\n",
       "    </tr>\n",
       "    <tr>\n",
       "      <th>7265</th>\n",
       "      <td>13528</td>\n",
       "      <td>1263</td>\n",
       "      <td>60419.0</td>\n",
       "      <td>1590</td>\n",
       "      <td>53.0</td>\n",
       "      <td>17.0</td>\n",
       "      <td>134</td>\n",
       "      <td>47819.0</td>\n",
       "      <td>1.0</td>\n",
       "      <td>1.0</td>\n",
       "      <td>...</td>\n",
       "      <td>20.0</td>\n",
       "      <td>0.0</td>\n",
       "      <td>0.000</td>\n",
       "      <td>0.0</td>\n",
       "      <td>0.0</td>\n",
       "      <td>0.0</td>\n",
       "      <td>0.000</td>\n",
       "      <td>0.0</td>\n",
       "      <td>0.0</td>\n",
       "      <td>BENIGN</td>\n",
       "    </tr>\n",
       "    <tr>\n",
       "      <th>7266</th>\n",
       "      <td>14191</td>\n",
       "      <td>1263</td>\n",
       "      <td>61083.0</td>\n",
       "      <td>1590</td>\n",
       "      <td>53.0</td>\n",
       "      <td>17.0</td>\n",
       "      <td>134</td>\n",
       "      <td>98421.0</td>\n",
       "      <td>1.0</td>\n",
       "      <td>1.0</td>\n",
       "      <td>...</td>\n",
       "      <td>20.0</td>\n",
       "      <td>0.0</td>\n",
       "      <td>0.000</td>\n",
       "      <td>0.0</td>\n",
       "      <td>0.0</td>\n",
       "      <td>0.0</td>\n",
       "      <td>0.000</td>\n",
       "      <td>0.0</td>\n",
       "      <td>0.0</td>\n",
       "      <td>BENIGN</td>\n",
       "    </tr>\n",
       "  </tbody>\n",
       "</table>\n",
       "<p>7267 rows × 84 columns</p>\n",
       "</div>"
      ],
      "text/plain": [
       "      Flow ID  Source IP  Source Port  Destination IP  Destination Port  \\\n",
       "0       60803       1261      39923.0            1599              53.0   \n",
       "1       69607       1265       3480.0            1599              53.0   \n",
       "2       33770       1256      16043.0            1599              53.0   \n",
       "3       69711       1265      49221.0            1599              53.0   \n",
       "4       69659       1265      41529.0            1599              53.0   \n",
       "...       ...        ...          ...             ...               ...   \n",
       "7262    18877       1257      62969.0            2409             443.0   \n",
       "7263    41113       1257      63397.0            1599              53.0   \n",
       "7264    18825       1257      63000.0            2308             443.0   \n",
       "7265    13528       1263      60419.0            1590              53.0   \n",
       "7266    14191       1263      61083.0            1590              53.0   \n",
       "\n",
       "      Protocol  Timestamp  Flow Duration  Total Fwd Packets  \\\n",
       "0         17.0        181          350.0                4.0   \n",
       "1         17.0        181          176.0                2.0   \n",
       "2         17.0        181          151.0                2.0   \n",
       "3         17.0        181          163.0                2.0   \n",
       "4         17.0        181          163.0                2.0   \n",
       "...        ...        ...            ...                ...   \n",
       "7262       6.0        134      6037341.0                8.0   \n",
       "7263      17.0        134          157.0                2.0   \n",
       "7264       6.0        134    117745833.0               36.0   \n",
       "7265      17.0        134        47819.0                1.0   \n",
       "7266      17.0        134        98421.0                1.0   \n",
       "\n",
       "      Total Backward Packets  ...  min_seg_size_forward  Active Mean  \\\n",
       "0                        4.0  ...                  32.0          0.0   \n",
       "1                        2.0  ...                  32.0          0.0   \n",
       "2                        2.0  ...                  32.0          0.0   \n",
       "3                        2.0  ...                  32.0          0.0   \n",
       "4                        2.0  ...                  32.0          0.0   \n",
       "...                      ...  ...                   ...          ...   \n",
       "7262                     6.0  ...                  20.0     283421.0   \n",
       "7263                     2.0  ...                  20.0          0.0   \n",
       "7264                    34.0  ...                  20.0     220289.5   \n",
       "7265                     1.0  ...                  20.0          0.0   \n",
       "7266                     1.0  ...                  20.0          0.0   \n",
       "\n",
       "      Active Std  Active Max  Active Min  Idle Mean     Idle Std    Idle Max  \\\n",
       "0          0.000         0.0         0.0        0.0        0.000         0.0   \n",
       "1          0.000         0.0         0.0        0.0        0.000         0.0   \n",
       "2          0.000         0.0         0.0        0.0        0.000         0.0   \n",
       "3          0.000         0.0         0.0        0.0        0.000         0.0   \n",
       "4          0.000         0.0         0.0        0.0        0.000         0.0   \n",
       "...          ...         ...         ...        ...          ...         ...   \n",
       "7262       0.000    283421.0    283421.0  5753917.0        0.000   5753917.0   \n",
       "7263       0.000         0.0         0.0        0.0        0.000         0.0   \n",
       "7264  682382.033   2387143.0     22952.0  9591863.0  1403991.926  10000000.0   \n",
       "7265       0.000         0.0         0.0        0.0        0.000         0.0   \n",
       "7266       0.000         0.0         0.0        0.0        0.000         0.0   \n",
       "\n",
       "       Idle Min   Label  \n",
       "0           0.0  BENIGN  \n",
       "1           0.0  BENIGN  \n",
       "2           0.0  BENIGN  \n",
       "3           0.0  BENIGN  \n",
       "4           0.0  BENIGN  \n",
       "...         ...     ...  \n",
       "7262  5753917.0  BENIGN  \n",
       "7263        0.0  BENIGN  \n",
       "7264  5133889.0  BENIGN  \n",
       "7265        0.0  BENIGN  \n",
       "7266        0.0  BENIGN  \n",
       "\n",
       "[7267 rows x 84 columns]"
      ]
     },
     "execution_count": 2,
     "metadata": {},
     "output_type": "execute_result"
    }
   ],
   "source": [
    "df = pd.read_csv('web_attacks_balanced.csv')\n",
    "df"
   ]
  },
  {
   "cell_type": "markdown",
   "id": "dcdbb2f9",
   "metadata": {},
   "source": [
    "The dataset contains 4 classes:"
   ]
  },
  {
   "cell_type": "code",
   "execution_count": 3,
   "id": "59b2b7e4-f43f-4f64-9010-e08edad35def",
   "metadata": {},
   "outputs": [
    {
     "data": {
      "text/plain": [
       "array(['BENIGN', 'Web Attack – Brute Force', 'Web Attack – XSS',\n",
       "       'Web Attack – Sql Injection'], dtype=object)"
      ]
     },
     "execution_count": 3,
     "metadata": {},
     "output_type": "execute_result"
    }
   ],
   "source": [
    "df['Label'].unique()"
   ]
  },
  {
   "cell_type": "markdown",
   "id": "a744db6d",
   "metadata": {},
   "source": [
    "Transform categorical labels into numeric form with simple label encoding."
   ]
  },
  {
   "cell_type": "code",
   "execution_count": 4,
   "id": "c841caae-b972-49d3-988b-d2cd5e3373ae",
   "metadata": {},
   "outputs": [
    {
     "data": {
      "text/plain": [
       "array([0, 2, 1, 3])"
      ]
     },
     "execution_count": 4,
     "metadata": {},
     "output_type": "execute_result"
    }
   ],
   "source": [
    "df['Label'] = df['Label'].apply(lambda x: 0 if x == 'BENIGN'\n",
    "                                else 1 if x == 'Web Attack – XSS'\n",
    "                                else 2 if x == 'Web Attack – Brute Force'\n",
    "                                else 3 if x == 'Web Attack – Sql Injection'\n",
    "                                else 4)\n",
    "df['Label'].unique()"
   ]
  },
  {
   "cell_type": "markdown",
   "id": "35c7e126",
   "metadata": {},
   "source": [
    "Select the 10 most important features (see https://ispranproceedings.elpub.ru/jour/article/view/1348/1147)"
   ]
  },
  {
   "cell_type": "code",
   "execution_count": 5,
   "id": "3d036de4-588a-4bf8-b3b8-40ee179d95ab",
   "metadata": {},
   "outputs": [
    {
     "data": {
      "text/html": [
       "<div>\n",
       "<style scoped>\n",
       "    .dataframe tbody tr th:only-of-type {\n",
       "        vertical-align: middle;\n",
       "    }\n",
       "\n",
       "    .dataframe tbody tr th {\n",
       "        vertical-align: top;\n",
       "    }\n",
       "\n",
       "    .dataframe thead th {\n",
       "        text-align: right;\n",
       "    }\n",
       "</style>\n",
       "<table border=\"1\" class=\"dataframe\">\n",
       "  <thead>\n",
       "    <tr style=\"text-align: right;\">\n",
       "      <th></th>\n",
       "      <th>Average Packet Size</th>\n",
       "      <th>Flow Bytes/s</th>\n",
       "      <th>Max Packet Length</th>\n",
       "      <th>Fwd IAT Min</th>\n",
       "      <th>Fwd Packet Length Mean</th>\n",
       "      <th>Total Length of Fwd Packets</th>\n",
       "      <th>Flow IAT Mean</th>\n",
       "      <th>Fwd IAT Std</th>\n",
       "      <th>Fwd Packet Length Max</th>\n",
       "      <th>Fwd Header Length</th>\n",
       "    </tr>\n",
       "  </thead>\n",
       "  <tbody>\n",
       "    <tr>\n",
       "      <th>0</th>\n",
       "      <td>32.625000</td>\n",
       "      <td>6.628571e+05</td>\n",
       "      <td>29.0</td>\n",
       "      <td>1.0</td>\n",
       "      <td>29.000000</td>\n",
       "      <td>116.0</td>\n",
       "      <td>5.000000e+01</td>\n",
       "      <td>1.131651e+02</td>\n",
       "      <td>29.0</td>\n",
       "      <td>128.0</td>\n",
       "    </tr>\n",
       "    <tr>\n",
       "      <th>1</th>\n",
       "      <td>80.000000</td>\n",
       "      <td>1.568182e+06</td>\n",
       "      <td>94.0</td>\n",
       "      <td>3.0</td>\n",
       "      <td>44.000000</td>\n",
       "      <td>88.0</td>\n",
       "      <td>5.866667e+01</td>\n",
       "      <td>0.000000e+00</td>\n",
       "      <td>44.0</td>\n",
       "      <td>64.0</td>\n",
       "    </tr>\n",
       "    <tr>\n",
       "      <th>2</th>\n",
       "      <td>80.000000</td>\n",
       "      <td>1.827815e+06</td>\n",
       "      <td>94.0</td>\n",
       "      <td>3.0</td>\n",
       "      <td>44.000000</td>\n",
       "      <td>88.0</td>\n",
       "      <td>5.033333e+01</td>\n",
       "      <td>0.000000e+00</td>\n",
       "      <td>44.0</td>\n",
       "      <td>64.0</td>\n",
       "    </tr>\n",
       "    <tr>\n",
       "      <th>3</th>\n",
       "      <td>94.250000</td>\n",
       "      <td>2.000000e+06</td>\n",
       "      <td>112.0</td>\n",
       "      <td>3.0</td>\n",
       "      <td>51.000000</td>\n",
       "      <td>102.0</td>\n",
       "      <td>5.433333e+01</td>\n",
       "      <td>0.000000e+00</td>\n",
       "      <td>51.0</td>\n",
       "      <td>64.0</td>\n",
       "    </tr>\n",
       "    <tr>\n",
       "      <th>4</th>\n",
       "      <td>80.000000</td>\n",
       "      <td>1.693252e+06</td>\n",
       "      <td>94.0</td>\n",
       "      <td>3.0</td>\n",
       "      <td>44.000000</td>\n",
       "      <td>88.0</td>\n",
       "      <td>5.433333e+01</td>\n",
       "      <td>0.000000e+00</td>\n",
       "      <td>44.0</td>\n",
       "      <td>64.0</td>\n",
       "    </tr>\n",
       "    <tr>\n",
       "      <th>...</th>\n",
       "      <td>...</td>\n",
       "      <td>...</td>\n",
       "      <td>...</td>\n",
       "      <td>...</td>\n",
       "      <td>...</td>\n",
       "      <td>...</td>\n",
       "      <td>...</td>\n",
       "      <td>...</td>\n",
       "      <td>...</td>\n",
       "      <td>...</td>\n",
       "    </tr>\n",
       "    <tr>\n",
       "      <th>7262</th>\n",
       "      <td>327.500000</td>\n",
       "      <td>7.594403e+02</td>\n",
       "      <td>1460.0</td>\n",
       "      <td>3.0</td>\n",
       "      <td>46.500000</td>\n",
       "      <td>372.0</td>\n",
       "      <td>4.644108e+05</td>\n",
       "      <td>2.157444e+06</td>\n",
       "      <td>191.0</td>\n",
       "      <td>172.0</td>\n",
       "    </tr>\n",
       "    <tr>\n",
       "      <th>7263</th>\n",
       "      <td>69.000000</td>\n",
       "      <td>1.503185e+06</td>\n",
       "      <td>78.0</td>\n",
       "      <td>3.0</td>\n",
       "      <td>40.000000</td>\n",
       "      <td>80.0</td>\n",
       "      <td>5.233333e+01</td>\n",
       "      <td>0.000000e+00</td>\n",
       "      <td>40.0</td>\n",
       "      <td>40.0</td>\n",
       "    </tr>\n",
       "    <tr>\n",
       "      <th>7264</th>\n",
       "      <td>471.428571</td>\n",
       "      <td>2.802647e+02</td>\n",
       "      <td>3620.0</td>\n",
       "      <td>3.0</td>\n",
       "      <td>109.666667</td>\n",
       "      <td>3948.0</td>\n",
       "      <td>1.706461e+06</td>\n",
       "      <td>4.652067e+06</td>\n",
       "      <td>901.0</td>\n",
       "      <td>732.0</td>\n",
       "    </tr>\n",
       "    <tr>\n",
       "      <th>7265</th>\n",
       "      <td>110.500000</td>\n",
       "      <td>3.555072e+03</td>\n",
       "      <td>119.0</td>\n",
       "      <td>0.0</td>\n",
       "      <td>51.000000</td>\n",
       "      <td>51.0</td>\n",
       "      <td>4.781900e+04</td>\n",
       "      <td>0.000000e+00</td>\n",
       "      <td>51.0</td>\n",
       "      <td>20.0</td>\n",
       "    </tr>\n",
       "    <tr>\n",
       "      <th>7266</th>\n",
       "      <td>87.000000</td>\n",
       "      <td>1.361498e+03</td>\n",
       "      <td>94.0</td>\n",
       "      <td>0.0</td>\n",
       "      <td>40.000000</td>\n",
       "      <td>40.0</td>\n",
       "      <td>9.842100e+04</td>\n",
       "      <td>0.000000e+00</td>\n",
       "      <td>40.0</td>\n",
       "      <td>20.0</td>\n",
       "    </tr>\n",
       "  </tbody>\n",
       "</table>\n",
       "<p>7267 rows × 10 columns</p>\n",
       "</div>"
      ],
      "text/plain": [
       "      Average Packet Size  Flow Bytes/s  Max Packet Length  Fwd IAT Min  \\\n",
       "0               32.625000  6.628571e+05               29.0          1.0   \n",
       "1               80.000000  1.568182e+06               94.0          3.0   \n",
       "2               80.000000  1.827815e+06               94.0          3.0   \n",
       "3               94.250000  2.000000e+06              112.0          3.0   \n",
       "4               80.000000  1.693252e+06               94.0          3.0   \n",
       "...                   ...           ...                ...          ...   \n",
       "7262           327.500000  7.594403e+02             1460.0          3.0   \n",
       "7263            69.000000  1.503185e+06               78.0          3.0   \n",
       "7264           471.428571  2.802647e+02             3620.0          3.0   \n",
       "7265           110.500000  3.555072e+03              119.0          0.0   \n",
       "7266            87.000000  1.361498e+03               94.0          0.0   \n",
       "\n",
       "      Fwd Packet Length Mean  Total Length of Fwd Packets  Flow IAT Mean  \\\n",
       "0                  29.000000                        116.0   5.000000e+01   \n",
       "1                  44.000000                         88.0   5.866667e+01   \n",
       "2                  44.000000                         88.0   5.033333e+01   \n",
       "3                  51.000000                        102.0   5.433333e+01   \n",
       "4                  44.000000                         88.0   5.433333e+01   \n",
       "...                      ...                          ...            ...   \n",
       "7262               46.500000                        372.0   4.644108e+05   \n",
       "7263               40.000000                         80.0   5.233333e+01   \n",
       "7264              109.666667                       3948.0   1.706461e+06   \n",
       "7265               51.000000                         51.0   4.781900e+04   \n",
       "7266               40.000000                         40.0   9.842100e+04   \n",
       "\n",
       "       Fwd IAT Std  Fwd Packet Length Max  Fwd Header Length  \n",
       "0     1.131651e+02                   29.0              128.0  \n",
       "1     0.000000e+00                   44.0               64.0  \n",
       "2     0.000000e+00                   44.0               64.0  \n",
       "3     0.000000e+00                   51.0               64.0  \n",
       "4     0.000000e+00                   44.0               64.0  \n",
       "...            ...                    ...                ...  \n",
       "7262  2.157444e+06                  191.0              172.0  \n",
       "7263  0.000000e+00                   40.0               40.0  \n",
       "7264  4.652067e+06                  901.0              732.0  \n",
       "7265  0.000000e+00                   51.0               20.0  \n",
       "7266  0.000000e+00                   40.0               20.0  \n",
       "\n",
       "[7267 rows x 10 columns]"
      ]
     },
     "execution_count": 5,
     "metadata": {},
     "output_type": "execute_result"
    }
   ],
   "source": [
    "webattack_features = ['Average Packet Size',\n",
    "                      'Flow Bytes/s',\n",
    "                      'Max Packet Length',\n",
    "                      'Fwd IAT Min',\n",
    "                      'Fwd Packet Length Mean',\n",
    "                      'Total Length of Fwd Packets',\n",
    "                      'Flow IAT Mean',\n",
    "                      'Fwd IAT Std',\n",
    "                      'Fwd Packet Length Max',\n",
    "                      'Fwd Header Length']\n",
    "df[webattack_features]"
   ]
  },
  {
   "cell_type": "markdown",
   "id": "c71d5a88",
   "metadata": {},
   "source": [
    "Get a target vector and a feature matrix of the training set."
   ]
  },
  {
   "cell_type": "code",
   "execution_count": 6,
   "id": "59e91f49-184a-4683-8465-6771718b0104",
   "metadata": {},
   "outputs": [
    {
     "name": "stdout",
     "output_type": "stream",
     "text": [
      "(7267, 10) (7267,)\n"
     ]
    }
   ],
   "source": [
    "y = df['Label'].values\n",
    "X = df[webattack_features].values\n",
    "\n",
    "print(X.shape, y.shape)"
   ]
  },
  {
   "cell_type": "markdown",
   "id": "3dee0d78",
   "metadata": {},
   "source": [
    "Split the dataset into a training set and a test set."
   ]
  },
  {
   "cell_type": "code",
   "execution_count": 7,
   "id": "4df198e7-07d3-42d2-b7db-c2adff76e914",
   "metadata": {},
   "outputs": [],
   "source": [
    "X_train, X_test, y_train, y_test = train_test_split(\n",
    "    X, y, test_size=0.25, shuffle=True, random_state=42)"
   ]
  },
  {
   "cell_type": "markdown",
   "id": "5be4c383",
   "metadata": {},
   "source": [
    "LT-attack implementation uses normalized data in LIBSVM format as input. We need to perform feature scaling and save the normalized training and test sets in LIBSVM format for LT-attack.\n",
    "\n",
    "In our case, the min-max normalization is used: all selected features are transformed into the range [0, 1].\n",
    "\n",
    "Uncomment and use the following code to get the normalized training and test sets in LIBSVM format or download an archive with the already prepared data."
   ]
  },
  {
   "cell_type": "code",
   "execution_count": 8,
   "id": "3b4a1d8e",
   "metadata": {},
   "outputs": [],
   "source": [
    "#scaler = sklearn.preprocessing.MinMaxScaler()\n",
    "\n",
    "#dtrain = scaler.fit_transform(X_train)\n",
    "#dtest = scaler.fit_transform(X_test)\n",
    "\n",
    "#dump_svmlight_file(dtest, y_test, 'web_attacks_libsvm_normalized.test',\n",
    "#                   zero_based=True, comment=None, query_id=None, multilabel=False)\n",
    "#dump_svmlight_file(dtrain, y_train, 'web_attacks_libsvm_normalized.train',\n",
    "#                   zero_based=True, comment=None, query_id=None, multilabel=False)"
   ]
  },
  {
   "cell_type": "markdown",
   "id": "759131b5",
   "metadata": {},
   "source": [
    "Download the archive with the already prepared data from Github to Google Colab and unzip it. This archive also contains saved models, instances of the attacks and all necessary data for the LT-Attack."
   ]
  },
  {
   "cell_type": "code",
   "execution_count": null,
   "id": "6a13be2b",
   "metadata": {},
   "outputs": [],
   "source": [
    "!wget https://github.com/fisher85/ml-cybersecurity/blob/master/adversarial-attacks/data_for_comparison.zip?raw=true -O data_for_comparison.zip\n",
    "!unzip -u data_for_comparison.zip"
   ]
  },
  {
   "cell_type": "markdown",
   "id": "254c6bf8-1a8b-4963-9903-68230e56bd2d",
   "metadata": {},
   "source": [
    "## Training a Random Forest model for ZOO, HSJA, SignOPT"
   ]
  },
  {
   "cell_type": "markdown",
   "id": "a137f56e",
   "metadata": {},
   "source": [
    "We use a Scikit-learn version of a Random Forest classifier with ART implementations of ZOO, HSJA, and SignOPT attacks.\n",
    "\n",
    "Use a previously trained model for repeatability or uncomment and use the following code to train and save a new Random Forest model."
   ]
  },
  {
   "cell_type": "code",
   "execution_count": null,
   "id": "47c2001a-e88a-4dac-8ba9-adcce8a81d74",
   "metadata": {},
   "outputs": [],
   "source": [
    "#model = RandomForestClassifier(n_estimators=10, criterion='gini', max_depth=None, min_samples_split=2,\n",
    "#                               min_samples_leaf=1, min_weight_fraction_leaf=0.0, max_features='auto',\n",
    "#                               max_leaf_nodes=None, min_impurity_decrease=0.0,\n",
    "#                               bootstrap=True, oob_score=False, n_jobs=None, random_state=None, verbose=0,\n",
    "#                               warm_start=False, class_weight=None)\n",
    "#model.fit(X=X_train, y=y_train)"
   ]
  },
  {
   "cell_type": "code",
   "execution_count": null,
   "id": "7825cb63-c8f7-4490-9c8a-0808cdab6401",
   "metadata": {},
   "outputs": [],
   "source": [
    "#with open('model_for_comparison.sav', 'wb') as f:\n",
    "#    pickle.dump(model, f)"
   ]
  },
  {
   "cell_type": "markdown",
   "id": "80025dcd",
   "metadata": {},
   "source": [
    "Load the previously trained model."
   ]
  },
  {
   "cell_type": "code",
   "execution_count": 9,
   "id": "71ced8a7-c113-4701-b86e-027667283de4",
   "metadata": {},
   "outputs": [],
   "source": [
    "model = pickle.load(open('model_for_comparison.sav', 'rb'))"
   ]
  },
  {
   "cell_type": "markdown",
   "id": "8f4dd1d4",
   "metadata": {},
   "source": [
    "Get the Random Forest model's evaluation metrics for the test data."
   ]
  },
  {
   "cell_type": "code",
   "execution_count": 10,
   "id": "9e080f96-fa88-4ea3-916c-6cc247d18006",
   "metadata": {},
   "outputs": [
    {
     "data": {
      "text/plain": [
       "(1817,)"
      ]
     },
     "execution_count": 10,
     "metadata": {},
     "output_type": "execute_result"
    }
   ],
   "source": [
    "y_pred = model.predict(X_test)\n",
    "y_pred.shape"
   ]
  },
  {
   "cell_type": "code",
   "execution_count": 11,
   "id": "bfdf3305-409d-4a07-81cd-d46fbe4ee9ba",
   "metadata": {},
   "outputs": [
    {
     "data": {
      "text/plain": [
       "array([[1245,    1,   19,    0],\n",
       "       [   6,   57,   94,    0],\n",
       "       [  24,   92,  274,    0],\n",
       "       [   1,    0,    2,    2]])"
      ]
     },
     "execution_count": 11,
     "metadata": {},
     "output_type": "execute_result"
    }
   ],
   "source": [
    "matrix = confusion_matrix(y_test, y_pred)\n",
    "matrix"
   ]
  },
  {
   "cell_type": "markdown",
   "id": "44966a57",
   "metadata": {},
   "source": [
    "We use the following function to get evaluation metrics."
   ]
  },
  {
   "cell_type": "code",
   "execution_count": 12,
   "id": "54eeafcd-f564-4672-8b42-c873c6204955",
   "metadata": {},
   "outputs": [],
   "source": [
    "def print_metrics(y_eval, y_pred, average='weighted'):\n",
    "    accuracy = accuracy_score(y_eval, y_pred)\n",
    "    precision = precision_score(y_eval, y_pred, average=average)\n",
    "    recall = recall_score(y_eval, y_pred, average=average)\n",
    "    f1 = f1_score(y_eval, y_pred, average=average)\n",
    "\n",
    "    print('Accuracy =', accuracy)\n",
    "    print('Precision =', precision)\n",
    "    print('Recall =', recall)\n",
    "    print('F1 =', f1)"
   ]
  },
  {
   "cell_type": "code",
   "execution_count": 13,
   "id": "68f4c7b7-cb59-471d-abc5-c6b653400a8a",
   "metadata": {},
   "outputs": [
    {
     "name": "stdout",
     "output_type": "stream",
     "text": [
      "Accuracy = 0.868464501926252\n",
      "Precision = 0.8660603255692124\n",
      "Recall = 0.868464501926252\n",
      "F1 = 0.8668788881263884\n"
     ]
    }
   ],
   "source": [
    "print_metrics(y_test, y_pred)"
   ]
  },
  {
   "cell_type": "markdown",
   "id": "04a55111",
   "metadata": {},
   "source": [
    "Create an ART classifier for the trained model."
   ]
  },
  {
   "cell_type": "code",
   "execution_count": 14,
   "id": "12085e60-3de9-4cbe-924d-84f75969e832",
   "metadata": {},
   "outputs": [],
   "source": [
    "art_classifier = SklearnClassifier(model=model)"
   ]
  },
  {
   "cell_type": "markdown",
   "id": "9c2912ec-aa40-4016-adfc-f9924292496e",
   "metadata": {},
   "source": [
    "## ZOO attack"
   ]
  },
  {
   "cell_type": "markdown",
   "id": "ff606752",
   "metadata": {},
   "source": [
    "Use a previously created attack instance for repeatability or uncomment and use the following code to create and save a ZOO attack instance."
   ]
  },
  {
   "cell_type": "code",
   "execution_count": null,
   "id": "9b485554-6d6d-4c69-b7da-afb1baaf9a12",
   "metadata": {},
   "outputs": [],
   "source": [
    "#zoo = ZooAttack(classifier=art_classifier, confidence=0.0, targeted=False, learning_rate=1e-1, max_iter=100,\n",
    "#                binary_search_steps=20, initial_const=1e-3, abort_early=True, use_resize=False,\n",
    "#                use_importance=False, nb_parallel=10, batch_size=1, variable_h=0.25)"
   ]
  },
  {
   "cell_type": "code",
   "execution_count": null,
   "id": "ec84aca3-f8ff-44ab-ba93-266c0a2dccae",
   "metadata": {},
   "outputs": [],
   "source": [
    "#with open('zoo_for_comparison.sav', 'wb') as f:\n",
    "#    pickle.dump(zoo, f)"
   ]
  },
  {
   "cell_type": "markdown",
   "id": "69fabbc3",
   "metadata": {},
   "source": [
    "Load the previously created attack instance."
   ]
  },
  {
   "cell_type": "code",
   "execution_count": 15,
   "id": "d1874277-d62e-424d-930a-17974814bfdd",
   "metadata": {},
   "outputs": [],
   "source": [
    "zoo = pickle.load(open('zoo_for_comparison.sav', 'rb'))"
   ]
  },
  {
   "cell_type": "markdown",
   "id": "282406a5",
   "metadata": {},
   "source": [
    "Generate adversarial samples and measure elapsed time. This step may take some time, around 8 minutes or more depending on the hardware performance."
   ]
  },
  {
   "cell_type": "code",
   "execution_count": 16,
   "id": "e5138fc7-7011-407d-88c3-14ec452ad66c",
   "metadata": {},
   "outputs": [
    {
     "data": {
      "application/vnd.jupyter.widget-view+json": {
       "model_id": "5e71b951402841ffa9af28e0b70daeb5",
       "version_major": 2,
       "version_minor": 0
      },
      "text/plain": [
       "ZOO:   0%|          | 0/1817 [00:00<?, ?it/s]"
      ]
     },
     "metadata": {},
     "output_type": "display_data"
    },
    {
     "name": "stdout",
     "output_type": "stream",
     "text": [
      "Total time: 470.82162594795227\n"
     ]
    }
   ],
   "source": [
    "start_time = time.time()\n",
    "X_test_adv = zoo.generate(X_test)\n",
    "print(f'Total time: {time.time() - start_time}')"
   ]
  },
  {
   "cell_type": "markdown",
   "id": "4909857e",
   "metadata": {},
   "source": [
    "Get predictions for the generated samples."
   ]
  },
  {
   "cell_type": "code",
   "execution_count": 17,
   "id": "7e12a90e-5e13-4112-9288-d36bc2deb1f5",
   "metadata": {},
   "outputs": [
    {
     "data": {
      "text/plain": [
       "(1817,)"
      ]
     },
     "execution_count": 17,
     "metadata": {},
     "output_type": "execute_result"
    }
   ],
   "source": [
    "y_pred_adv = model.predict(X_test_adv)\n",
    "y_pred_adv.shape"
   ]
  },
  {
   "cell_type": "markdown",
   "id": "997c29a6",
   "metadata": {},
   "source": [
    "The dataset with generated samples contains samples that may change the model's predictions between different classes. We only need the samples that change the prediction from one of the attack classes (1, 2, 3) to a benign class (0).\n",
    "\n",
    "Here and further we use the following function to evaluate the model's performance on the test data with relevant crafted adversarial samples. As we already have predictions for the original test set and for the generated test set, we do not need to form the actual dataset with relevant adversarial samples for performance evaluation. We skip the step of forming the actual dataset with relevant samples and work only with previously predicted labels."
   ]
  },
  {
   "cell_type": "code",
   "execution_count": 18,
   "id": "78cd8e14",
   "metadata": {},
   "outputs": [],
   "source": [
    "def process_relevant_samples(labels, pred_labels, adv_labels):\n",
    "    # Count all adversarial samples.\n",
    "    print(f'Generated {np.count_nonzero(adv_labels != pred_labels)} adversarial samples'\n",
    "          f' from {labels.shape[0]} original samples.')\n",
    "\n",
    "    # Replace predictions for the irrelevant samples with original predictions for the test set.\n",
    "    relevant_examples_mask = (adv_labels != pred_labels) & (\n",
    "        pred_labels != 0) & (adv_labels == 0)\n",
    "    adv_labels[~relevant_examples_mask] = pred_labels[~relevant_examples_mask]\n",
    "\n",
    "    # Count only relevant adversarial samples.\n",
    "    print(f'Generated {np.count_nonzero(adv_labels != pred_labels)} relevant adversarial samples'\n",
    "          f' from {labels.shape[0]} original samples.')\n",
    "\n",
    "    # Get model's evaluation metrics.\n",
    "    matrix = confusion_matrix(labels, adv_labels)\n",
    "    print('Confusion matrix:\\n', matrix)\n",
    "    print_metrics(labels, adv_labels)"
   ]
  },
  {
   "cell_type": "code",
   "execution_count": 19,
   "id": "5afd5d8a",
   "metadata": {},
   "outputs": [
    {
     "name": "stdout",
     "output_type": "stream",
     "text": [
      "Generated 25 adversarial samples from 1817 original samples.\n",
      "Generated 12 relevant adversarial samples from 1817 original samples.\n",
      "Confusion matrix:\n",
      " [[1251    1   13    0]\n",
      " [   7   57   93    0]\n",
      " [  28   92  270    0]\n",
      " [   2    0    1    2]]\n",
      "Accuracy = 0.8695652173913043\n",
      "Precision = 0.8655096637937812\n",
      "Recall = 0.8695652173913043\n",
      "F1 = 0.8670681442159682\n"
     ]
    }
   ],
   "source": [
    "process_relevant_samples(y_test, y_pred, y_pred_adv)"
   ]
  },
  {
   "cell_type": "markdown",
   "id": "69d5adbc-deb0-42ae-8e3f-73b9ec32d619",
   "metadata": {},
   "source": [
    "## HSJA attack"
   ]
  },
  {
   "cell_type": "markdown",
   "id": "127277df",
   "metadata": {},
   "source": [
    "Use a previously created attack instance for repeatability or uncomment and use the following code to create and save a HopSkipJump attack instance."
   ]
  },
  {
   "cell_type": "code",
   "execution_count": null,
   "id": "93466c77-1ca8-4253-8642-8c3ae81c2901",
   "metadata": {},
   "outputs": [],
   "source": [
    "#hsja = HopSkipJump(classifier=art_classifier, batch_size=64, targeted=False,\n",
    "#                   norm=2, max_iter=50, max_eval=10000,\n",
    "#                   init_eval=100, init_size=100, verbose=True)"
   ]
  },
  {
   "cell_type": "code",
   "execution_count": null,
   "id": "cb322f8d-b384-4f31-a20a-a1cc591a806b",
   "metadata": {},
   "outputs": [],
   "source": [
    "#with open('hsja_for_comparison.sav', 'wb') as f:\n",
    "#    pickle.dump(hsja, f)"
   ]
  },
  {
   "cell_type": "markdown",
   "id": "a13635bb",
   "metadata": {},
   "source": [
    "Load the previously created attack instance."
   ]
  },
  {
   "cell_type": "code",
   "execution_count": 20,
   "id": "88730a59-00d1-4213-8ee1-779795e94719",
   "metadata": {},
   "outputs": [],
   "source": [
    "hsja = pickle.load(open('hsja_for_comparison.sav', 'rb'))"
   ]
  },
  {
   "cell_type": "markdown",
   "id": "55df5651",
   "metadata": {},
   "source": [
    "Generate adversarial samples and measure elapsed time.  This step may take some time, around 8 minutes or more depending on the hardware performance."
   ]
  },
  {
   "cell_type": "code",
   "execution_count": 21,
   "id": "f15a63f2-d29d-4289-a6c7-2b3685f8ee04",
   "metadata": {},
   "outputs": [
    {
     "data": {
      "application/vnd.jupyter.widget-view+json": {
       "model_id": "9e7dbd89ed444bf297bbc763f3afbd6f",
       "version_major": 2,
       "version_minor": 0
      },
      "text/plain": [
       "HopSkipJump:   0%|          | 0/1817 [00:00<?, ?it/s]"
      ]
     },
     "metadata": {},
     "output_type": "display_data"
    },
    {
     "name": "stdout",
     "output_type": "stream",
     "text": [
      "Total time: 509.2923903465271\n"
     ]
    }
   ],
   "source": [
    "start_time = time.time()\n",
    "X_test_adv = hsja.generate(X_test)\n",
    "print(f'Total time: {time.time() - start_time}')"
   ]
  },
  {
   "cell_type": "markdown",
   "id": "083b839f",
   "metadata": {},
   "source": [
    "Get predictions for the generated samples."
   ]
  },
  {
   "cell_type": "code",
   "execution_count": 22,
   "id": "81cc0504-1c15-4c90-8dbe-273bdc2fecdc",
   "metadata": {},
   "outputs": [
    {
     "data": {
      "text/plain": [
       "(1817,)"
      ]
     },
     "execution_count": 22,
     "metadata": {},
     "output_type": "execute_result"
    }
   ],
   "source": [
    "y_pred_adv = model.predict(X_test_adv)\n",
    "y_pred_adv.shape"
   ]
  },
  {
   "cell_type": "markdown",
   "id": "6b2301ac",
   "metadata": {},
   "source": [
    "Evaluate the model's performance on the test data with relevant crafted adversarial samples."
   ]
  },
  {
   "cell_type": "code",
   "execution_count": 23,
   "id": "5fb6e4f9",
   "metadata": {},
   "outputs": [
    {
     "name": "stdout",
     "output_type": "stream",
     "text": [
      "Generated 674 adversarial samples from 1817 original samples.\n",
      "Generated 458 relevant adversarial samples from 1817 original samples.\n",
      "Confusion matrix:\n",
      " [[1265    0    0    0]\n",
      " [ 130   16   11    0]\n",
      " [ 335   31   24    0]\n",
      " [   4    0    0    1]]\n",
      "Accuracy = 0.7187671986791414\n",
      "Precision = 0.6872466525663968\n",
      "Recall = 0.7187671986791414\n",
      "F1 = 0.6260393875990758\n"
     ]
    }
   ],
   "source": [
    "process_relevant_samples(y_test, y_pred, y_pred_adv)"
   ]
  },
  {
   "cell_type": "markdown",
   "id": "f7140e01-ab74-4096-82c8-d828299b6235",
   "metadata": {},
   "source": [
    "## SignOPT attack"
   ]
  },
  {
   "cell_type": "markdown",
   "id": "a9d79f15",
   "metadata": {},
   "source": [
    "Use a previously created attack instance for repeatability or uncomment and use the following code to create and save a SignOPT attack instance."
   ]
  },
  {
   "cell_type": "code",
   "execution_count": null,
   "id": "fae007be-b869-4fd4-8033-329cc562c2b6",
   "metadata": {},
   "outputs": [],
   "source": [
    "#signopt = SignOPTAttack(estimator=art_classifier, targeted=False, epsilon=0.001,\n",
    "#                        num_trial=100, max_iter=1000, query_limit=20000, k=200,\n",
    "#                        alpha=0.2, beta=0.001, eval_perform=False, batch_size=64, verbose=False)\n",
    "#signopt.clip_min = None\n",
    "#signopt.clip_max = None"
   ]
  },
  {
   "cell_type": "code",
   "execution_count": null,
   "id": "aa8ec6da-405c-4816-b4b4-33d86c1e8666",
   "metadata": {},
   "outputs": [],
   "source": [
    "#with open('signopt_for_comparison.sav', 'wb') as f:\n",
    "#    pickle.dump(signopt, f)"
   ]
  },
  {
   "cell_type": "markdown",
   "id": "7103ebc6",
   "metadata": {},
   "source": [
    "Load the previously created attack instance."
   ]
  },
  {
   "cell_type": "code",
   "execution_count": 24,
   "id": "2aba6b25-084b-4b3f-95df-27caf8a759a0",
   "metadata": {},
   "outputs": [],
   "source": [
    "signopt = pickle.load(open('signopt_for_comparison.sav', 'rb'))"
   ]
  },
  {
   "cell_type": "markdown",
   "id": "48017f4c",
   "metadata": {},
   "source": [
    "Generate adversarial samples and measure elapsed time.  This step may take some considerable time, around 1 hour or more depending on the hardware performance."
   ]
  },
  {
   "cell_type": "code",
   "execution_count": 25,
   "id": "1847eff0-c73f-4321-8c3d-1bdc7b0242ff",
   "metadata": {},
   "outputs": [
    {
     "name": "stdout",
     "output_type": "stream",
     "text": [
      "Total time: 3227.4964702129364\n"
     ]
    }
   ],
   "source": [
    "start_time = time.time()\n",
    "X_test_adv = signopt.generate(X_test)\n",
    "print(f'Total time: {time.time() - start_time}')"
   ]
  },
  {
   "cell_type": "markdown",
   "id": "d3f86a88",
   "metadata": {},
   "source": [
    "Get predictions for the generated samples."
   ]
  },
  {
   "cell_type": "code",
   "execution_count": 26,
   "id": "ee77abc0-4ee8-4608-944f-f6c9b2cb8fc1",
   "metadata": {},
   "outputs": [
    {
     "data": {
      "text/plain": [
       "(1817,)"
      ]
     },
     "execution_count": 26,
     "metadata": {},
     "output_type": "execute_result"
    }
   ],
   "source": [
    "y_pred_adv = model.predict(X_test_adv)\n",
    "y_pred_adv.shape"
   ]
  },
  {
   "cell_type": "markdown",
   "id": "47e40271",
   "metadata": {},
   "source": [
    "Evaluate the model's performance on the test data with relevant crafted adversarial samples."
   ]
  },
  {
   "cell_type": "code",
   "execution_count": 27,
   "id": "421e5aa7",
   "metadata": {},
   "outputs": [
    {
     "name": "stdout",
     "output_type": "stream",
     "text": [
      "Generated 269 adversarial samples from 1817 original samples.\n",
      "Generated 102 relevant adversarial samples from 1817 original samples.\n",
      "Confusion matrix:\n",
      " [[1265    0    0    0]\n",
      " [  22   51   84    0]\n",
      " [  88   74  228    0]\n",
      " [   3    0    0    2]]\n",
      "Accuracy = 0.8508530544854155\n",
      "Precision = 0.833969360490705\n",
      "Recall = 0.8508530544854155\n",
      "F1 = 0.8386864812412756\n"
     ]
    }
   ],
   "source": [
    "process_relevant_samples(y_test, y_pred, y_pred_adv)"
   ]
  },
  {
   "cell_type": "markdown",
   "id": "29d67fe5-d1f5-4128-9c66-112310912ffb",
   "metadata": {},
   "source": [
    "## LT-Attack"
   ]
  },
  {
   "cell_type": "markdown",
   "id": "98c6e4ab",
   "metadata": {},
   "source": [
    "LT-Attack implementation works with XGBoost models and provides its own script for training them (https://github.com/chong-z/tree-ensemble-attack/blob/main/random_forest/train_random_forest.py).\n",
    "\n",
    "We used existing examples of multiclass datasets from this script as a template and changed the following parameters:\n",
    "* paths to the test set and the training set in LIBSVM format (\"test_path\": \"raw_data/web_attacks_libsvm_normalized.test\", \"train_path\": \"raw_data/web_attacks_libsvm_normalized.train\");\n",
    "* path to the trained model (\"save_path\": \"models/web_attacks_rf.json\");\n",
    "* number of classses (\"num_class\": 4);\n",
    "* training algorithm ('tree_method': 'hist'). We used 'hist' instead of 'gpu_hist' to train without GPU.\n",
    "\n",
    "To get the trained Random Forest model, use that script with the prepared datasets in LIBSVM format and the above-mentioned modifications or use the already prepared model from the \"data_for_comparison.zip\" archive."
   ]
  },
  {
   "cell_type": "markdown",
   "id": "45463f5a",
   "metadata": {},
   "source": [
    "Load the previously trained model."
   ]
  },
  {
   "cell_type": "code",
   "execution_count": 28,
   "id": "8ac9b5a1",
   "metadata": {},
   "outputs": [],
   "source": [
    "model = xgb.Booster()\n",
    "model.load_model('web_attacks_rf.model')"
   ]
  },
  {
   "cell_type": "markdown",
   "id": "a641ae32-4101-4af7-8dee-084f20e51277",
   "metadata": {},
   "source": [
    "Load the test set."
   ]
  },
  {
   "cell_type": "code",
   "execution_count": 29,
   "id": "9e4f1c14-f30e-416a-b4fe-af3ac6f24507",
   "metadata": {},
   "outputs": [],
   "source": [
    "dtest = xgb.DMatrix('web_attacks_libsvm_normalized.test', silent=True)\n",
    "dy_test = dtest.get_label()"
   ]
  },
  {
   "cell_type": "markdown",
   "id": "f7f87246",
   "metadata": {},
   "source": [
    "Get the Random Forest model's evaluation metrics for the test data."
   ]
  },
  {
   "cell_type": "code",
   "execution_count": 30,
   "id": "032be081-915e-4ee4-af16-a077d35d5806",
   "metadata": {},
   "outputs": [],
   "source": [
    "dy_pred = model.predict(dtest, ntree_limit=model.best_ntree_limit)"
   ]
  },
  {
   "cell_type": "code",
   "execution_count": 31,
   "id": "527274e2-6423-49c0-b115-e5ddf26a9566",
   "metadata": {},
   "outputs": [
    {
     "name": "stdout",
     "output_type": "stream",
     "text": [
      "Accuracy = 0.8866263070996148\n",
      "Precision = 0.8852895107874651\n",
      "Recall = 0.8866263070996148\n",
      "F1 = 0.8548262756875967\n"
     ]
    }
   ],
   "source": [
    "print_metrics(dy_test, dy_pred)"
   ]
  },
  {
   "cell_type": "code",
   "execution_count": 32,
   "id": "2a71ee06-1998-4fc2-9532-b6dfa6e00854",
   "metadata": {},
   "outputs": [
    {
     "data": {
      "text/plain": [
       "array([[1250,    2,   13,    0],\n",
       "       [   7,    6,  144,    0],\n",
       "       [  35,    0,  355,    0],\n",
       "       [   2,    0,    3,    0]])"
      ]
     },
     "execution_count": 32,
     "metadata": {},
     "output_type": "execute_result"
    }
   ],
   "source": [
    "matrix = confusion_matrix(dy_test, dy_pred)\n",
    "matrix"
   ]
  },
  {
   "cell_type": "markdown",
   "id": "bf390748-29c1-45bb-906e-27d73f4a3953",
   "metadata": {},
   "source": [
    "The downloaded archive (\"data_for_comparison.zip\") also contains already prepared datasets with relevant crafted adversarial samples. We modified the original source code for the LT-Attack in a way that allowed us to save 3 datasets with different adversarial perturbations:\n",
    "* \"adv_examples_1\" for the l<sub>1</sub> norm perturbation;\n",
    "* \"adv_examples_2\" for the l<sub>2</sub> norm perturbation;\n",
    "* \"adv_examples_inf\" for the l<sub>∞</sub> norm perturbation.\n",
    "\n",
    "The elapsed time for the adversarial samples generation was 42 minutes.\n",
    "\n",
    "Load prepared datasets and get predictions for them."
   ]
  },
  {
   "cell_type": "code",
   "execution_count": 33,
   "id": "1090317d-d99f-4cdf-b42e-e612565b17c0",
   "metadata": {},
   "outputs": [],
   "source": [
    "dtest_1 = xgb.DMatrix('adv_examples_1', silent=True)\n",
    "dtest_2 = xgb.DMatrix('adv_examples_2', silent=True)\n",
    "dtest_inf = xgb.DMatrix('adv_examples_inf', silent=True)"
   ]
  },
  {
   "cell_type": "code",
   "execution_count": 34,
   "id": "774575cc-569f-447e-91e0-8f49c2a91cb1",
   "metadata": {},
   "outputs": [],
   "source": [
    "dy_pred_1 = model.predict(dtest_1, ntree_limit=model.best_ntree_limit)\n",
    "dy_pred_2 = model.predict(dtest_2, ntree_limit=model.best_ntree_limit)\n",
    "dy_pred_inf = model.predict(dtest_inf, ntree_limit=model.best_ntree_limit)"
   ]
  },
  {
   "cell_type": "markdown",
   "id": "2d8369ee-5cd0-451a-80f5-e2d66236ef47",
   "metadata": {},
   "source": [
    "Evaluate the model's performance on the test data with relevant crafted adversarial samples for the l<sub>1</sub> norm perturbation."
   ]
  },
  {
   "cell_type": "code",
   "execution_count": 35,
   "id": "9d201824",
   "metadata": {},
   "outputs": [
    {
     "name": "stdout",
     "output_type": "stream",
     "text": [
      "Generated 671 adversarial samples from 1817 original samples.\n",
      "Generated 18 relevant adversarial samples from 1817 original samples.\n",
      "Confusion matrix:\n",
      " [[1250    2   13    0]\n",
      " [   7    6  144    0]\n",
      " [  53    0  337    0]\n",
      " [   2    0    3    0]]\n",
      "Accuracy = 0.8767198679141442\n",
      "Precision = 0.8736476151160423\n",
      "Recall = 0.8767198679141442\n",
      "F1 = 0.8447812838569833\n"
     ]
    }
   ],
   "source": [
    "process_relevant_samples(dy_test, dy_pred, dy_pred_1)"
   ]
  },
  {
   "cell_type": "markdown",
   "id": "1a7e7ec2-bf42-4941-b199-5c80387d183f",
   "metadata": {},
   "source": [
    "Evaluate the model's performance on the test data with relevant crafted adversarial samples for the l<sub>2</sub> norm perturbation."
   ]
  },
  {
   "cell_type": "code",
   "execution_count": 36,
   "id": "798ab761",
   "metadata": {},
   "outputs": [
    {
     "name": "stdout",
     "output_type": "stream",
     "text": [
      "Generated 693 adversarial samples from 1817 original samples.\n",
      "Generated 18 relevant adversarial samples from 1817 original samples.\n",
      "Confusion matrix:\n",
      " [[1250    2   13    0]\n",
      " [   7    6  144    0]\n",
      " [  53    0  337    0]\n",
      " [   2    0    3    0]]\n",
      "Accuracy = 0.8767198679141442\n",
      "Precision = 0.8736476151160423\n",
      "Recall = 0.8767198679141442\n",
      "F1 = 0.8447812838569833\n"
     ]
    }
   ],
   "source": [
    "process_relevant_samples(dy_test, dy_pred, dy_pred_2)"
   ]
  },
  {
   "cell_type": "markdown",
   "id": "94283484-be78-4248-a552-2008b17d5d9c",
   "metadata": {},
   "source": [
    "Evaluate the model's performance on the test data with relevant crafted adversarial samples for the l<sub>∞</sub> norm perturbation."
   ]
  },
  {
   "cell_type": "code",
   "execution_count": 37,
   "id": "f1cfc339",
   "metadata": {},
   "outputs": [
    {
     "name": "stdout",
     "output_type": "stream",
     "text": [
      "Generated 536 adversarial samples from 1817 original samples.\n",
      "Generated 29 relevant adversarial samples from 1817 original samples.\n",
      "Confusion matrix:\n",
      " [[1261    2    2    0]\n",
      " [   7    6  144    0]\n",
      " [  53    0  337    0]\n",
      " [   2    0    3    0]]\n",
      "Accuracy = 0.8827738029719318\n",
      "Precision = 0.8772152800050697\n",
      "Recall = 0.8827738029719318\n",
      "F1 = 0.8498768531657963\n"
     ]
    }
   ],
   "source": [
    "process_relevant_samples(dy_test, dy_pred, dy_pred_inf)"
   ]
  },
  {
   "cell_type": "markdown",
   "id": "26b4f47b",
   "metadata": {},
   "source": [
    "## Conclusion"
   ]
  },
  {
   "cell_type": "markdown",
   "id": "be501205",
   "metadata": {},
   "source": [
    "As we can see, the HSJA attack was the most effective attack: it needed less time to generate one relevant adversarial sample than any other attack. Similarly, the LT-Attack was the least effective attack."
   ]
  }
 ],
 "metadata": {
  "kernelspec": {
   "display_name": "Python 3 (ipykernel)",
   "language": "python",
   "name": "python3"
  },
  "language_info": {
   "codemirror_mode": {
    "name": "ipython",
    "version": 3
   },
   "file_extension": ".py",
   "mimetype": "text/x-python",
   "name": "python",
   "nbconvert_exporter": "python",
   "pygments_lexer": "ipython3",
   "version": "3.9.7"
  }
 },
 "nbformat": 4,
 "nbformat_minor": 5
}
