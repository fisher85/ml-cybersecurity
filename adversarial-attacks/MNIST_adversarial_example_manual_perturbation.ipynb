{
  "cells": [
    {
      "cell_type": "markdown",
      "id": "635f0fa1-105c-4ea4-99ea-64e022cb5065",
      "metadata": {
        "id": "635f0fa1-105c-4ea4-99ea-64e022cb5065"
      },
      "source": [
        "# Adversarial Example on MNIST (Manual Perturbation)"
      ]
    },
    {
      "cell_type": "code",
      "execution_count": 1,
      "id": "4c0794dc-63c4-468f-af27-9e55ac360852",
      "metadata": {
        "id": "4c0794dc-63c4-468f-af27-9e55ac360852"
      },
      "outputs": [],
      "source": [
        "import os\n",
        "os.environ['TF_CPP_MIN_LOG_LEVEL'] = '3'  # 0 = all logs, 1 = filter INFO, 2 = filter WARNING, 3 = filter ERROR"
      ]
    },
    {
      "cell_type": "code",
      "execution_count": 2,
      "id": "78d69504-6ac4-497f-b989-70f7bc8568da",
      "metadata": {
        "id": "78d69504-6ac4-497f-b989-70f7bc8568da"
      },
      "outputs": [],
      "source": [
        "import random\n",
        "\n",
        "import matplotlib.pyplot as plt\n",
        "import numpy as np\n",
        "import tensorflow as tf\n",
        "from tensorflow.keras.datasets import mnist\n",
        "from tensorflow.keras.layers import Dense, Flatten\n",
        "from tensorflow.keras.models import Sequential\n",
        "from tensorflow.keras.utils import to_categorical"
      ]
    },
    {
      "cell_type": "code",
      "execution_count": 3,
      "id": "94d2d8e3-e538-41c7-a5e7-c12475b39fd7",
      "metadata": {
        "colab": {
          "base_uri": "https://localhost:8080/"
        },
        "id": "94d2d8e3-e538-41c7-a5e7-c12475b39fd7",
        "outputId": "f0a2d45a-c70c-4569-ee35-0def56d17596"
      },
      "outputs": [
        {
          "output_type": "stream",
          "name": "stdout",
          "text": [
            "Downloading data from https://storage.googleapis.com/tensorflow/tf-keras-datasets/mnist.npz\n",
            "\u001b[1m11490434/11490434\u001b[0m \u001b[32m━━━━━━━━━━━━━━━━━━━━\u001b[0m\u001b[37m\u001b[0m \u001b[1m0s\u001b[0m 0us/step\n"
          ]
        }
      ],
      "source": [
        "# Load and normalize MNIST dataset\n",
        "(x_train, y_train), (x_test, y_test) = mnist.load_data()\n",
        "x_train = x_train.astype(\"float32\") / 255.0\n",
        "x_test = x_test.astype(\"float32\") / 255.0\n",
        "x_train = x_train[..., np.newaxis]\n",
        "x_test = x_test[..., np.newaxis]\n",
        "y_train_cat = to_categorical(y_train, 10)"
      ]
    },
    {
      "cell_type": "code",
      "execution_count": 4,
      "id": "c84c0ee3-faf4-4e63-b804-74558a9f3472",
      "metadata": {
        "colab": {
          "base_uri": "https://localhost:8080/"
        },
        "id": "c84c0ee3-faf4-4e63-b804-74558a9f3472",
        "outputId": "8478b5cb-acd8-402b-dce2-fe494bb32dd7"
      },
      "outputs": [
        {
          "output_type": "stream",
          "name": "stderr",
          "text": [
            "/usr/local/lib/python3.11/dist-packages/keras/src/layers/reshaping/flatten.py:37: UserWarning: Do not pass an `input_shape`/`input_dim` argument to a layer. When using Sequential models, prefer using an `Input(shape)` object as the first layer in the model instead.\n",
            "  super().__init__(**kwargs)\n"
          ]
        },
        {
          "output_type": "stream",
          "name": "stdout",
          "text": [
            "Epoch 1/3\n",
            "\u001b[1m1875/1875\u001b[0m \u001b[32m━━━━━━━━━━━━━━━━━━━━\u001b[0m\u001b[37m\u001b[0m \u001b[1m11s\u001b[0m 5ms/step - accuracy: 0.8770 - loss: 0.4376\n",
            "Epoch 2/3\n",
            "\u001b[1m1875/1875\u001b[0m \u001b[32m━━━━━━━━━━━━━━━━━━━━\u001b[0m\u001b[37m\u001b[0m \u001b[1m6s\u001b[0m 3ms/step - accuracy: 0.9633 - loss: 0.1238\n",
            "Epoch 3/3\n",
            "\u001b[1m1875/1875\u001b[0m \u001b[32m━━━━━━━━━━━━━━━━━━━━\u001b[0m\u001b[37m\u001b[0m \u001b[1m8s\u001b[0m 4ms/step - accuracy: 0.9760 - loss: 0.0795\n"
          ]
        },
        {
          "output_type": "execute_result",
          "data": {
            "text/plain": [
              "<keras.src.callbacks.history.History at 0x79d79b586c50>"
            ]
          },
          "metadata": {},
          "execution_count": 4
        }
      ],
      "source": [
        "# Build and train a simple neural network\n",
        "model = Sequential([\n",
        "    Flatten(input_shape=(28, 28, 1)),\n",
        "    Dense(128, activation='relu'),\n",
        "    Dense(10, activation='softmax')\n",
        "])\n",
        "model.compile(optimizer='adam', loss='categorical_crossentropy', metrics=['accuracy'])\n",
        "model.fit(x_train, y_train_cat, epochs=3, verbose=1)"
      ]
    },
    {
      "cell_type": "code",
      "execution_count": 6,
      "id": "3f7c8dca-2a18-4b44-9bdc-dd8d05d93f2d",
      "metadata": {
        "colab": {
          "base_uri": "https://localhost:8080/"
        },
        "id": "3f7c8dca-2a18-4b44-9bdc-dd8d05d93f2d",
        "outputId": "9caa90f5-7f2f-40b2-a429-5fec99bbab6d"
      },
      "outputs": [
        {
          "output_type": "stream",
          "name": "stdout",
          "text": [
            "\u001b[1m1/1\u001b[0m \u001b[32m━━━━━━━━━━━━━━━━━━━━\u001b[0m\u001b[37m\u001b[0m \u001b[1m0s\u001b[0m 64ms/step\n"
          ]
        }
      ],
      "source": [
        "# Select a test image and make a prediction\n",
        "idx = 0\n",
        "original_image = x_test[idx]\n",
        "true_label = y_test[idx]\n",
        "original_pred = np.argmax(model.predict(original_image[np.newaxis]), axis=1)[0]"
      ]
    },
    {
      "cell_type": "code",
      "execution_count": 18,
      "id": "3714ee30-c690-4277-91a2-377278f3aff1",
      "metadata": {
        "id": "3714ee30-c690-4277-91a2-377278f3aff1"
      },
      "outputs": [],
      "source": [
        "# Manually perturb the image\n",
        "modified_image = original_image.copy()\n",
        "# modified_image[14, 5:23, 0] = 1.0\n",
        "# modified_image[13:16, 5:23, 0] = 1.0\n",
        "# modified_image[5:23, 13:15, 0] = 0.9\n",
        "# modified_image[0:15, :, 0] = 0.0\n",
        "\n",
        "# Add several bright pixels randomly (simulating ink blot or dust)\n",
        "for _ in range(300):  # increase for stronger effect\n",
        "    x = random.randint(1, 27)\n",
        "    y = random.randint(1, 27)\n",
        "    modified_image[y-1:y, x-1:x, 0] = 0.3  # small blot"
      ]
    },
    {
      "cell_type": "code",
      "execution_count": 19,
      "id": "56bc5601-e9f2-4230-95e2-4fd29d311552",
      "metadata": {
        "colab": {
          "base_uri": "https://localhost:8080/"
        },
        "id": "56bc5601-e9f2-4230-95e2-4fd29d311552",
        "outputId": "ed51cab6-760b-44b6-8fc8-dc8ee39ed1e3"
      },
      "outputs": [
        {
          "output_type": "stream",
          "name": "stdout",
          "text": [
            "\u001b[1m1/1\u001b[0m \u001b[32m━━━━━━━━━━━━━━━━━━━━\u001b[0m\u001b[37m\u001b[0m \u001b[1m0s\u001b[0m 37ms/step\n"
          ]
        }
      ],
      "source": [
        "# Predict again after the modification\n",
        "modified_pred = np.argmax(model.predict(modified_image[np.newaxis]), axis=1)[0]"
      ]
    },
    {
      "cell_type": "code",
      "execution_count": 20,
      "id": "4ce6a2dc-2d42-4220-bf0c-411ae3bdefd7",
      "metadata": {
        "colab": {
          "base_uri": "https://localhost:8080/",
          "height": 316
        },
        "id": "4ce6a2dc-2d42-4220-bf0c-411ae3bdefd7",
        "outputId": "753957aa-1259-4a65-f189-eb6863bbec24"
      },
      "outputs": [
        {
          "output_type": "display_data",
          "data": {
            "text/plain": [
              "<Figure size 600x300 with 2 Axes>"
            ],
            "image/png": "[encoded data removed]"
          },
          "metadata": {}
        }
      ],
      "source": [
        "# Plot the original and modified images with predictions\n",
        "fig, axs = plt.subplots(1, 2, figsize=(6, 3))\n",
        "axs[0].imshow(original_image.squeeze(), cmap=\"gray\")\n",
        "axs[0].set_title(f\"Original: {true_label}, Predicted: {original_pred}\")\n",
        "axs[0].axis(\"off\")\n",
        "\n",
        "axs[1].imshow(modified_image.squeeze(), cmap=\"gray\")\n",
        "axs[1].set_title(f\"Modified, Predicted: {modified_pred}\")\n",
        "axs[1].axis(\"off\")\n",
        "plt.tight_layout()\n",
        "plt.show()"
      ]
    }
  ],
  "metadata": {
    "kernelspec": {
      "display_name": "Python 3 (ipykernel)",
      "language": "python",
      "name": "python3"
    },
    "language_info": {
      "codemirror_mode": {
        "name": "ipython",
        "version": 3
      },
      "file_extension": ".py",
      "mimetype": "text/x-python",
      "name": "python",
      "nbconvert_exporter": "python",
      "pygments_lexer": "ipython3",
      "version": "3.10.10"
    },
    "colab": {
      "provenance": []
    }
  },
  "nbformat": 4,
  "nbformat_minor": 5
}